{
  "cells": [
    {
      "cell_type": "markdown",
      "metadata": {
        "id": "mi-e5YbOIyGv"
      },
      "source": [
        "### CIFAR10으로 pytorch 공부하기\n",
        "- 본 노트북은 로컬환경이 아닌 코랩에서 실행되었음 (버전 및 쿠다 주의)\n",
        "- MNIST랑 같은 이미지분류\n",
        "- 다른점은 칼라(채널 3), 레이블이 10종류라는 점\n",
        "- reference : https://www.youtube.com/watch?v=lh2Ed-b5l28&list=PLSAJwo7mw8jn8iaXwT4MqLbZnS-LJwnBd&index=14\n",
        "> - 모델 아키텍처부분이랑 def experiment 이 부분의 아이디어 위주로 참고하면 됨!"
      ]
    },
    {
      "cell_type": "code",
      "execution_count": 1,
      "metadata": {
        "colab": {
          "base_uri": "https://localhost:8080/"
        },
        "id": "uRVlZq75JUJn",
        "outputId": "f25c9d4a-8b5c-4222-f59e-1149873f5f27"
      },
      "outputs": [
        {
          "name": "stdout",
          "output_type": "stream",
          "text": [
            "\u001b[31mERROR: Could not find a version that satisfies the requirement torch==1.0.0 (from versions: 1.4.0, 1.5.0, 1.5.1, 1.6.0, 1.7.0, 1.7.1, 1.8.0, 1.8.1, 1.9.0, 1.9.1, 1.10.0, 1.10.1, 1.10.2, 1.11.0, 1.12.0, 1.12.1, 1.13.0, 1.13.1)\u001b[0m\n",
            "\u001b[31mERROR: No matching distribution found for torch==1.0.0\u001b[0m\n",
            "1.13.0+cu116\n"
          ]
        }
      ],
      "source": [
        "!pip install -q torch==1.0.0 torchvision\n",
        "import torch\n",
        "print(torch.__version__)"
      ]
    },
    {
      "cell_type": "code",
      "execution_count": 2,
      "metadata": {
        "id": "PD4cIKKvKFCC"
      },
      "outputs": [],
      "source": [
        "import torch\n",
        "import torchvision\n",
        "import torchvision.transforms as transforms\n",
        "import torch.nn as nn\n",
        "import torch.nn.functional as F\n",
        "import torch.optim as optim\n",
        "import argparse\n",
        "import numpy as np"
      ]
    },
    {
      "cell_type": "markdown",
      "metadata": {
        "id": "29UainWPco7Y"
      },
      "source": [
        "## Data Preparation"
      ]
    },
    {
      "cell_type": "code",
      "execution_count": 3,
      "metadata": {
        "colab": {
          "base_uri": "https://localhost:8080/",
          "height": 103,
          "referenced_widgets": [
            "35c5b7525075449e849d26edac74574e",
            "cd780dd4a3c44f02a243ebed67a7374c",
            "5a498eebf0fd4df2900c448def8e0538",
            "13e1e8cb9290458ea253eb58aa14702a",
            "627e7da137dc4fa0953b42720876f468",
            "ddab053036834754a6e1ebab55106196",
            "57d544f5308e4e70a2dd54ebce5927fe",
            "c31653e3b49649279563bf9e4fb2e6e2",
            "615ccd879a5d4ab8adb1a5db34f23a44",
            "df0b27305b5c405fada8b71480ea94fb",
            "60350d9215714879b97b6af4f900f513"
          ]
        },
        "id": "Cu753dPPKGkV",
        "outputId": "f3f49b79-35db-4db2-ac32-c5fda8a07394"
      },
      "outputs": [
        {
          "name": "stdout",
          "output_type": "stream",
          "text": [
            "Downloading https://www.cs.toronto.edu/~kriz/cifar-10-python.tar.gz to ./data/cifar-10-python.tar.gz\n"
          ]
        },
        {
          "data": {
            "application/vnd.jupyter.widget-view+json": {
              "model_id": "35c5b7525075449e849d26edac74574e",
              "version_major": 2,
              "version_minor": 0
            },
            "text/plain": [
              "  0%|          | 0/170498071 [00:00<?, ?it/s]"
            ]
          },
          "metadata": {},
          "output_type": "display_data"
        },
        {
          "name": "stdout",
          "output_type": "stream",
          "text": [
            "Extracting ./data/cifar-10-python.tar.gz to ./data\n",
            "Files already downloaded and verified\n"
          ]
        }
      ],
      "source": [
        "transform = transforms.Compose(\n",
        "    [transforms.ToTensor(),\n",
        "     transforms.Normalize((0.5, 0.5, 0.5), (0.5, 0.5, 0.5))])\n",
        "\n",
        "trainset = torchvision.datasets.CIFAR10(root='./data', train=True,\n",
        "                                        download=True, transform=transform)\n",
        "trainset, valset = torch.utils.data.random_split(trainset, [40000, 10000])\n",
        "testset = torchvision.datasets.CIFAR10(root='./data', train=False,\n",
        "                                       download=True, transform=transform)\n",
        "\n",
        "\n",
        "trainloader = torch.utils.data.DataLoader(trainset, batch_size=4,\n",
        "                                          shuffle=True, num_workers=2)\n",
        "valloader = torch.utils.data.DataLoader(valset, batch_size=4, \n",
        "                                        shuffle=False)\n",
        "testloader = torch.utils.data.DataLoader(testset, batch_size=4,\n",
        "                                         shuffle=False, num_workers=2) # valid, test는 섞지않는다!!\n",
        "\n",
        "classes = ('plane', 'car', 'bird', 'cat',\n",
        "           'deer', 'dog', 'frog', 'horse', 'ship', 'truck')"
      ]
    },
    {
      "cell_type": "code",
      "execution_count": 4,
      "metadata": {
        "colab": {
          "base_uri": "https://localhost:8080/",
          "height": 192
        },
        "id": "7v7fH5_hTYrT",
        "outputId": "3bc688da-224b-45a6-9c29-3a82981b2817"
      },
      "outputs": [
        {
          "data": {
            "image/png": "[encoded data removed]",
            "text/plain": [
              "<Figure size 432x288 with 1 Axes>"
            ]
          },
          "metadata": {
            "needs_background": "light"
          },
          "output_type": "display_data"
        },
        {
          "name": "stdout",
          "output_type": "stream",
          "text": [
            " bird  ship plane  ship\n",
            "<class 'torch.Tensor'> torch.Size([4, 3, 32, 32])\n",
            "<class 'torch.Tensor'> torch.Size([4]) tensor([2, 8, 0, 8])\n"
          ]
        }
      ],
      "source": [
        "import matplotlib.pyplot as plt\n",
        "import numpy as np\n",
        "\n",
        "# functions to show an image\n",
        "\n",
        "\n",
        "def imshow(img):\n",
        "    img = img / 2 + 0.5     # unnormalize\n",
        "    npimg = img.numpy()\n",
        "    plt.imshow(np.transpose(npimg, (1, 2, 0)))\n",
        "    plt.show()\n",
        "\n",
        "\n",
        "# get some random training images\n",
        "dataiter = iter(trainloader)\n",
        "images, labels = next(dataiter)\n",
        "\n",
        "# show images\n",
        "imshow(torchvision.utils.make_grid(images))\n",
        "# print labels\n",
        "print(' '.join('%5s' % classes[labels[j]] for j in range(4)))\n",
        "\n",
        "print(type(images), images.shape) # 이미지가 하나에 32*32*3(채널) 크기임. 그리고 배치 하나당 4개씩 이미지 갖게됨. # 즉 input dim은 32*32*3\n",
        "print(type(labels), labels.shape, labels)"
      ]
    },
    {
      "cell_type": "markdown",
      "metadata": {},
      "source": [
        "> - 이미지가 하나에 32*32*3(채널) 크기임. 그리고 배치 하나당 4개씩 이미지 갖게됨.\n",
        "> - 즉 input dim은 32*32*3"
      ]
    },
    {
      "cell_type": "markdown",
      "metadata": {
        "id": "RxnfFJwBcsAv"
      },
      "source": [
        "## Model Architecture"
      ]
    },
    {
      "cell_type": "code",
      "execution_count": 5,
      "metadata": {
        "id": "_G6bZbbkMWWt"
      },
      "outputs": [],
      "source": [
        "class MLP(nn.Module):\n",
        "    def __init__(self, in_dim, out_dim, hid_dim, n_hid_layer, active_func):\n",
        "        super(MLP, self).__init__()\n",
        "        # init이 아닌 다른 함수에서 쓰이는 경우를 위해 self 쓰는거.\n",
        "        self.in_dim = in_dim\n",
        "        self.out_dim = out_dim\n",
        "        self.hid_dim = hid_dim\n",
        "        self.n_hid_layer = n_hid_layer\n",
        "        self.act = active_func\n",
        "        \n",
        "        self.in_mlp = nn.Linear(self.in_dim, self.hid_dim)\n",
        "        self.mlps = nn.ModuleList()\n",
        "        \n",
        "        for i in range(self.n_hid_layer):\n",
        "            self.mlps.append(nn.Linear(self.hid_dim, self.hid_dim))\n",
        "        \n",
        "        self.out_mlp = nn.Linear(self.hid_dim, self.out_dim)\n",
        "        \n",
        "        if self.act == 'relu':\n",
        "            self.act = nn.ReLU()\n",
        "          \n",
        "    def forward(self, x):\n",
        "        x = self.act(self.in_mlp(x))\n",
        "        for hidden_mlp in self.mlps:\n",
        "            x = self.act(hidden_mlp(x))\n",
        "        x = self.out_mlp(x) # 마지막엔 활성화함수 적용x !\n",
        "        return x"
      ]
    },
    {
      "cell_type": "code",
      "execution_count": 6,
      "metadata": {
        "colab": {
          "base_uri": "https://localhost:8080/"
        },
        "id": "qv8z0AsOYnxc",
        "outputId": "198beb10-283e-4576-c3aa-b08c3e62f543"
      },
      "outputs": [
        {
          "name": "stdout",
          "output_type": "stream",
          "text": [
            "MLP(\n",
            "  (in_mlp): Linear(in_features=3072, out_features=100, bias=True)\n",
            "  (mlps): ModuleList(\n",
            "    (0): Linear(in_features=100, out_features=100, bias=True)\n",
            "    (1): Linear(in_features=100, out_features=100, bias=True)\n",
            "    (2): Linear(in_features=100, out_features=100, bias=True)\n",
            "  )\n",
            "  (out_mlp): Linear(in_features=100, out_features=10, bias=True)\n",
            "  (act): ReLU()\n",
            ")\n"
          ]
        }
      ],
      "source": [
        "model = MLP(in_dim = 3072, out_dim = 10, hid_dim = 100, n_hid_layer = 3, active_func = 'relu')\n",
        "\n",
        "print(model) # 시험삼아 확인해보기 (추후 밑에서 args 설정해서 호출할것임)"
      ]
    },
    {
      "cell_type": "markdown",
      "metadata": {
        "id": "itGsp6jDWs_a"
      },
      "source": [
        "## Define Experiment"
      ]
    },
    {
      "cell_type": "code",
      "execution_count": 7,
      "metadata": {
        "id": "LiOCP6TqWw2V"
      },
      "outputs": [],
      "source": [
        "def experiment(args):\n",
        "  \n",
        "    model = MLP(args.in_dim, args.out_dim, args.hid_dim, args.n_hid_layer, args.active_func)\n",
        "    model.cuda()\n",
        "    print(model)\n",
        "\n",
        "    loss_fn = nn.CrossEntropyLoss()\n",
        "    optimizer = optim.SGD(model.parameters(), lr=args.lr, momentum=args.mm)\n",
        "    \n",
        "    for epoch in range(args.epoch):  # loop over the dataset multiple times\n",
        "\n",
        "        # ==== Train ===== #\n",
        "        model.train()\n",
        "        \n",
        "        running_loss = 0.0\n",
        "        train_loss = 0.0\n",
        "        for i, data in enumerate(trainloader, 0):\n",
        "            optimizer.zero_grad()\n",
        "\n",
        "            inputs, labels = data # inputs : [4,3,32,32] 이 형태라서 우리가 설정한 크기와 다름!\n",
        "            inputs = inputs.view(-1, 3072) # inputs : [4, 3072]\n",
        "            \n",
        "            inputs = inputs.cuda()\n",
        "            labels = labels.cuda()\n",
        "\n",
        "            # forward + backward + optimize\n",
        "            outputs = model(inputs)\n",
        "            loss = loss_fn(outputs, labels)\n",
        "            loss.backward()\n",
        "            optimizer.step()\n",
        "\n",
        "            # print statistics\n",
        "            running_loss += loss.item()\n",
        "            train_loss += loss.item()\n",
        "            if i % 2000 == 1999:    # print every 2000 mini-batches\n",
        "                print('[%d, %5d] loss: %.3f' %\n",
        "                      (epoch + 1, i + 1, running_loss / 2000))\n",
        "                running_loss = 0.0\n",
        "                \n",
        "\n",
        "        # ==== Validation ====== #\n",
        "        model.eval()\n",
        "        # optimizer.zero_grad() [21.01.05 코드 클린업] 아래 torch.no_grad()가 호출되고 Validation 과정에서는 Optimizer를 사용하지 않으므로 굳이 호출될 필요가 없습니다. \n",
        "        \n",
        "        correct = 0\n",
        "        total = 0\n",
        "        val_loss = 0 \n",
        "        with torch.no_grad():\n",
        "            for data in valloader:\n",
        "                images, labels = data\n",
        "                images = images.view(-1, 3072)\n",
        "                \n",
        "                images = images.cuda()\n",
        "                labels = labels.cuda()\n",
        "                \n",
        "                outputs = model(images)\n",
        "\n",
        "                loss = loss_fn(outputs, labels)\n",
        "                val_loss += loss.item()\n",
        "\n",
        "                _, predicted = torch.max(outputs.data, 1)\n",
        "                total += labels.size(0)\n",
        "                correct += (predicted == labels).sum().item()\n",
        "\n",
        "            val_loss = val_loss / len(valloader)\n",
        "            val_acc = 100 * correct / total\n",
        "            \n",
        "        print('Epoch {}, Train Loss: {}, Val Loss: {}, Val Acc: {}'.format(epoch, train_loss, val_loss, val_acc ))\n",
        "\n",
        "\n",
        "    # ===== Evaluation ===== # #(이러면 모든 에폭마다 다 검증하는셈일거야)\n",
        "    model.eval()    \n",
        "    correct = 0\n",
        "    total = 0\n",
        "    with torch.no_grad():\n",
        "        for data in testloader:\n",
        "            images, labels = data\n",
        "            images = images.view(-1, 3072)\n",
        "            images = images.cuda()\n",
        "            labels = labels.cuda()\n",
        "\n",
        "            outputs = model(images)\n",
        "            _, predicted = torch.max(outputs.data, 1)\n",
        "            total += labels.size(0)\n",
        "            correct += (predicted == labels).sum().item()\n",
        "\n",
        "        test_acc = 100 * correct / total\n",
        "            \n",
        "    return train_loss, val_loss, val_acc, test_acc\n",
        "    "
      ]
    },
    {
      "cell_type": "markdown",
      "metadata": {
        "id": "omgExzmQgU1J"
      },
      "source": [
        "## Experiment"
      ]
    },
    {
      "cell_type": "code",
      "execution_count": 8,
      "metadata": {
        "id": "ArOq0mIvKxz2"
      },
      "outputs": [],
      "source": [
        "import time\n",
        "\n",
        "start = time.time()"
      ]
    },
    {
      "cell_type": "code",
      "execution_count": 9,
      "metadata": {
        "colab": {
          "base_uri": "https://localhost:8080/"
        },
        "id": "DRoOy_B3Wu7B",
        "outputId": "af25e96e-9efe-4a98-ceeb-94d5e95bfbb0"
      },
      "outputs": [
        {
          "name": "stdout",
          "output_type": "stream",
          "text": [
            "MLP(\n",
            "  (in_mlp): Linear(in_features=3072, out_features=50, bias=True)\n",
            "  (mlps): ModuleList(\n",
            "    (0): Linear(in_features=50, out_features=50, bias=True)\n",
            "    (1): Linear(in_features=50, out_features=50, bias=True)\n",
            "    (2): Linear(in_features=50, out_features=50, bias=True)\n",
            "    (3): Linear(in_features=50, out_features=50, bias=True)\n",
            "    (4): Linear(in_features=50, out_features=50, bias=True)\n",
            "  )\n",
            "  (out_mlp): Linear(in_features=50, out_features=10, bias=True)\n",
            "  (act): ReLU()\n",
            ")\n",
            "[1,  2000] loss: 2.302\n",
            "[1,  4000] loss: 2.223\n",
            "[1,  6000] loss: 2.036\n",
            "[1,  8000] loss: 1.980\n",
            "[1, 10000] loss: 1.892\n",
            "Epoch 0, Train Loss: 20866.50378137827, Val Loss: 1.8569657981395722, Val Acc: 28.16\n",
            "[2,  2000] loss: 1.844\n",
            "[2,  4000] loss: 1.805\n",
            "[2,  6000] loss: 1.779\n",
            "[2,  8000] loss: 1.732\n",
            "[2, 10000] loss: 1.684\n",
            "Epoch 1, Train Loss: 17688.13314527273, Val Loss: 1.695641452217102, Val Acc: 37.27\n",
            "(17688.13314527273, 1.695641452217102, 37.27, 38.72)\n",
            "MLP(\n",
            "  (in_mlp): Linear(in_features=3072, out_features=100, bias=True)\n",
            "  (mlps): ModuleList(\n",
            "    (0): Linear(in_features=100, out_features=100, bias=True)\n",
            "    (1): Linear(in_features=100, out_features=100, bias=True)\n",
            "    (2): Linear(in_features=100, out_features=100, bias=True)\n",
            "    (3): Linear(in_features=100, out_features=100, bias=True)\n",
            "    (4): Linear(in_features=100, out_features=100, bias=True)\n",
            "  )\n",
            "  (out_mlp): Linear(in_features=100, out_features=10, bias=True)\n",
            "  (act): ReLU()\n",
            ")\n",
            "[1,  2000] loss: 2.303\n",
            "[1,  4000] loss: 2.300\n",
            "[1,  6000] loss: 2.166\n",
            "[1,  8000] loss: 2.032\n",
            "[1, 10000] loss: 1.978\n",
            "Epoch 0, Train Loss: 21557.198029875755, Val Loss: 1.8798995868682862, Val Acc: 28.63\n",
            "[2,  2000] loss: 1.858\n",
            "[2,  4000] loss: 1.804\n",
            "[2,  6000] loss: 1.734\n",
            "[2,  8000] loss: 1.694\n",
            "[2, 10000] loss: 1.649\n",
            "Epoch 1, Train Loss: 17478.969252884388, Val Loss: 1.6778155224084854, Val Acc: 39.18\n",
            "(17478.969252884388, 1.6778155224084854, 39.18, 39.59)\n",
            "MLP(\n",
            "  (in_mlp): Linear(in_features=3072, out_features=150, bias=True)\n",
            "  (mlps): ModuleList(\n",
            "    (0): Linear(in_features=150, out_features=150, bias=True)\n",
            "    (1): Linear(in_features=150, out_features=150, bias=True)\n",
            "    (2): Linear(in_features=150, out_features=150, bias=True)\n",
            "    (3): Linear(in_features=150, out_features=150, bias=True)\n",
            "    (4): Linear(in_features=150, out_features=150, bias=True)\n",
            "  )\n",
            "  (out_mlp): Linear(in_features=150, out_features=10, bias=True)\n",
            "  (act): ReLU()\n",
            ")\n",
            "[1,  2000] loss: 2.303\n",
            "[1,  4000] loss: 2.260\n",
            "[1,  6000] loss: 2.041\n",
            "[1,  8000] loss: 1.940\n",
            "[1, 10000] loss: 1.871\n",
            "Epoch 0, Train Loss: 20829.019074857235, Val Loss: 1.9400035057783127, Val Acc: 30.03\n",
            "[2,  2000] loss: 1.798\n",
            "[2,  4000] loss: 1.718\n",
            "[2,  6000] loss: 1.681\n",
            "[2,  8000] loss: 1.652\n",
            "[2, 10000] loss: 1.630\n",
            "Epoch 1, Train Loss: 16954.913879692554, Val Loss: 1.6154686469078063, Val Acc: 41.75\n",
            "(16954.913879692554, 1.6154686469078063, 41.75, 42.5)\n",
            "MLP(\n",
            "  (in_mlp): Linear(in_features=3072, out_features=50, bias=True)\n",
            "  (mlps): ModuleList(\n",
            "    (0): Linear(in_features=50, out_features=50, bias=True)\n",
            "    (1): Linear(in_features=50, out_features=50, bias=True)\n",
            "    (2): Linear(in_features=50, out_features=50, bias=True)\n",
            "    (3): Linear(in_features=50, out_features=50, bias=True)\n",
            "    (4): Linear(in_features=50, out_features=50, bias=True)\n",
            "  )\n",
            "  (out_mlp): Linear(in_features=50, out_features=10, bias=True)\n",
            "  (act): ReLU()\n",
            ")\n",
            "[1,  2000] loss: 2.303\n",
            "[1,  4000] loss: 2.301\n",
            "[1,  6000] loss: 2.214\n",
            "[1,  8000] loss: 2.037\n",
            "[1, 10000] loss: 1.916\n",
            "Epoch 0, Train Loss: 21542.081747829914, Val Loss: 1.9275940237522124, Val Acc: 24.25\n",
            "[2,  2000] loss: 1.876\n",
            "[2,  4000] loss: 1.835\n",
            "[2,  6000] loss: 1.800\n",
            "[2,  8000] loss: 1.765\n",
            "[2, 10000] loss: 1.743\n",
            "Epoch 1, Train Loss: 18036.92855796218, Val Loss: 1.73473429107666, Val Acc: 34.56\n",
            "(18036.92855796218, 1.73473429107666, 34.56, 35.06)\n",
            "MLP(\n",
            "  (in_mlp): Linear(in_features=3072, out_features=100, bias=True)\n",
            "  (mlps): ModuleList(\n",
            "    (0): Linear(in_features=100, out_features=100, bias=True)\n",
            "    (1): Linear(in_features=100, out_features=100, bias=True)\n",
            "    (2): Linear(in_features=100, out_features=100, bias=True)\n",
            "    (3): Linear(in_features=100, out_features=100, bias=True)\n",
            "    (4): Linear(in_features=100, out_features=100, bias=True)\n",
            "  )\n",
            "  (out_mlp): Linear(in_features=100, out_features=10, bias=True)\n",
            "  (act): ReLU()\n",
            ")\n",
            "[1,  2000] loss: 2.303\n",
            "[1,  4000] loss: 2.272\n",
            "[1,  6000] loss: 2.056\n",
            "[1,  8000] loss: 1.952\n",
            "[1, 10000] loss: 1.868\n",
            "Epoch 0, Train Loss: 20901.445651113987, Val Loss: 1.8339905815362931, Val Acc: 33.46\n",
            "[2,  2000] loss: 1.797\n",
            "[2,  4000] loss: 1.723\n",
            "[2,  6000] loss: 1.687\n",
            "[2,  8000] loss: 1.635\n",
            "[2, 10000] loss: 1.648\n",
            "Epoch 1, Train Loss: 16978.913978219032, Val Loss: 1.6171258122682572, Val Acc: 41.67\n",
            "(16978.913978219032, 1.6171258122682572, 41.67, 42.09)\n",
            "MLP(\n",
            "  (in_mlp): Linear(in_features=3072, out_features=150, bias=True)\n",
            "  (mlps): ModuleList(\n",
            "    (0): Linear(in_features=150, out_features=150, bias=True)\n",
            "    (1): Linear(in_features=150, out_features=150, bias=True)\n",
            "    (2): Linear(in_features=150, out_features=150, bias=True)\n",
            "    (3): Linear(in_features=150, out_features=150, bias=True)\n",
            "    (4): Linear(in_features=150, out_features=150, bias=True)\n",
            "  )\n",
            "  (out_mlp): Linear(in_features=150, out_features=10, bias=True)\n",
            "  (act): ReLU()\n",
            ")\n",
            "[1,  2000] loss: 2.303\n",
            "[1,  4000] loss: 2.301\n",
            "[1,  6000] loss: 2.195\n",
            "[1,  8000] loss: 2.036\n",
            "[1, 10000] loss: 1.937\n",
            "Epoch 0, Train Loss: 21544.553225576878, Val Loss: 1.9394950398683548, Val Acc: 27.1\n",
            "[2,  2000] loss: 1.870\n",
            "[2,  4000] loss: 1.807\n",
            "[2,  6000] loss: 1.741\n",
            "[2,  8000] loss: 1.699\n",
            "[2, 10000] loss: 1.631\n",
            "Epoch 1, Train Loss: 17496.335446178913, Val Loss: 1.6390591918468476, Val Acc: 40.0\n",
            "(17496.335446178913, 1.6390591918468476, 40.0, 40.44)\n",
            "MLP(\n",
            "  (in_mlp): Linear(in_features=3072, out_features=50, bias=True)\n",
            "  (mlps): ModuleList(\n",
            "    (0): Linear(in_features=50, out_features=50, bias=True)\n",
            "    (1): Linear(in_features=50, out_features=50, bias=True)\n",
            "    (2): Linear(in_features=50, out_features=50, bias=True)\n",
            "    (3): Linear(in_features=50, out_features=50, bias=True)\n",
            "    (4): Linear(in_features=50, out_features=50, bias=True)\n",
            "  )\n",
            "  (out_mlp): Linear(in_features=50, out_features=10, bias=True)\n",
            "  (act): ReLU()\n",
            ")\n",
            "[1,  2000] loss: 2.302\n",
            "[1,  4000] loss: 2.223\n",
            "[1,  6000] loss: 2.027\n",
            "[1,  8000] loss: 1.923\n",
            "[1, 10000] loss: 1.852\n",
            "Epoch 0, Train Loss: 20655.44233894348, Val Loss: 1.834343202805519, Val Acc: 32.97\n",
            "[2,  2000] loss: 1.779\n",
            "[2,  4000] loss: 1.731\n",
            "[2,  6000] loss: 1.696\n",
            "[2,  8000] loss: 1.666\n",
            "[2, 10000] loss: 1.638\n",
            "Epoch 1, Train Loss: 17019.004714637995, Val Loss: 1.6417591985344886, Val Acc: 40.57\n",
            "(17019.004714637995, 1.6417591985344886, 40.57, 41.27)\n",
            "MLP(\n",
            "  (in_mlp): Linear(in_features=3072, out_features=100, bias=True)\n",
            "  (mlps): ModuleList(\n",
            "    (0): Linear(in_features=100, out_features=100, bias=True)\n",
            "    (1): Linear(in_features=100, out_features=100, bias=True)\n",
            "    (2): Linear(in_features=100, out_features=100, bias=True)\n",
            "    (3): Linear(in_features=100, out_features=100, bias=True)\n",
            "    (4): Linear(in_features=100, out_features=100, bias=True)\n",
            "  )\n",
            "  (out_mlp): Linear(in_features=100, out_features=10, bias=True)\n",
            "  (act): ReLU()\n",
            ")\n",
            "[1,  2000] loss: 2.304\n",
            "[1,  4000] loss: 2.302\n",
            "[1,  6000] loss: 2.263\n",
            "[1,  8000] loss: 2.058\n",
            "[1, 10000] loss: 1.950\n",
            "Epoch 0, Train Loss: 21753.519917964935, Val Loss: 1.8841770291805267, Val Acc: 30.07\n",
            "[2,  2000] loss: 1.822\n",
            "[2,  4000] loss: 1.761\n",
            "[2,  6000] loss: 1.732\n",
            "[2,  8000] loss: 1.687\n",
            "[2, 10000] loss: 1.667\n",
            "Epoch 1, Train Loss: 17341.2756434083, Val Loss: 1.6313152854919433, Val Acc: 41.19\n",
            "(17341.2756434083, 1.6313152854919433, 41.19, 42.75)\n",
            "MLP(\n",
            "  (in_mlp): Linear(in_features=3072, out_features=150, bias=True)\n",
            "  (mlps): ModuleList(\n",
            "    (0): Linear(in_features=150, out_features=150, bias=True)\n",
            "    (1): Linear(in_features=150, out_features=150, bias=True)\n",
            "    (2): Linear(in_features=150, out_features=150, bias=True)\n",
            "    (3): Linear(in_features=150, out_features=150, bias=True)\n",
            "    (4): Linear(in_features=150, out_features=150, bias=True)\n",
            "  )\n",
            "  (out_mlp): Linear(in_features=150, out_features=10, bias=True)\n",
            "  (act): ReLU()\n",
            ")\n",
            "[1,  2000] loss: 2.303\n",
            "[1,  4000] loss: 2.300\n",
            "[1,  6000] loss: 2.187\n",
            "[1,  8000] loss: 2.001\n",
            "[1, 10000] loss: 1.890\n",
            "Epoch 0, Train Loss: 21362.844081282616, Val Loss: 1.8515573139190673, Val Acc: 31.55\n",
            "[2,  2000] loss: 1.805\n",
            "[2,  4000] loss: 1.734\n",
            "[2,  6000] loss: 1.699\n",
            "[2,  8000] loss: 1.660\n",
            "[2, 10000] loss: 1.619\n",
            "Epoch 1, Train Loss: 17032.93994641304, Val Loss: 1.644286937582493, Val Acc: 40.3\n",
            "(17032.93994641304, 1.644286937582493, 40.3, 42.13)\n"
          ]
        }
      ],
      "source": [
        "seed = 123\n",
        "np.random.seed(seed)\n",
        "torch.manual_seed(seed)\n",
        "\n",
        "parser = argparse.ArgumentParser()\n",
        "args = parser.parse_args(\"\")\n",
        "\n",
        "\n",
        "args.n_hid_layer = 5\n",
        "args.in_dim = 3072\n",
        "args.out_dim = 10\n",
        "args.hid_dim = 100\n",
        "args.active_func = 'relu'\n",
        "\n",
        "args.lr = 0.001\n",
        "args.mm = 0.9\n",
        "args.epoch = 2\n",
        "\n",
        "# 그리드하게 테스트하는거임\n",
        "list_var1 = [4, 5, 6]\n",
        "list_var2 = [50, 100, 150]\n",
        "\n",
        "for var1 in list_var1:\n",
        "    for var2 in list_var2:\n",
        "        args.n_layer = var1\n",
        "        args.hid_dim = var2\n",
        "        result = experiment(args)\n",
        "        print(result)"
      ]
    },
    {
      "cell_type": "code",
      "execution_count": 10,
      "metadata": {
        "colab": {
          "base_uri": "https://localhost:8080/"
        },
        "id": "jgZzAeusK1NG",
        "outputId": "4edece73-065f-41a3-a24c-b6a069cc6d1f"
      },
      "outputs": [
        {
          "name": "stdout",
          "output_type": "stream",
          "text": [
            "colab gpu 기준 소요시간 : 16.407117370764414분\n"
          ]
        }
      ],
      "source": [
        "time_cost = time.time() - start\n",
        "print(f'colab gpu 기준 소요시간 : {time_cost/60}분')"
      ]
    }
  ],
  "metadata": {
    "accelerator": "GPU",
    "colab": {
      "provenance": []
    },
    "gpuClass": "standard",
    "kernelspec": {
      "display_name": "Python 3.8.13 ('kotorch')",
      "language": "python",
      "name": "python3"
    },
    "language_info": {
      "codemirror_mode": {
        "name": "ipython",
        "version": 3
      },
      "file_extension": ".py",
      "mimetype": "text/x-python",
      "name": "python",
      "nbconvert_exporter": "python",
      "pygments_lexer": "ipython3",
      "version": "3.8.13"
    },
    "vscode": {
      "interpreter": {
        "hash": "e394b0e5950b2ed9ac02d3d0f43da50df004fa03f183c9ffe2862d4a06a95d21"
      }
    },
    "widgets": {
      "application/vnd.jupyter.widget-state+json": {
        "13e1e8cb9290458ea253eb58aa14702a": {
          "model_module": "@jupyter-widgets/controls",
          "model_module_version": "1.5.0",
          "model_name": "HTMLModel",
          "state": {
            "_dom_classes": [],
            "_model_module": "@jupyter-widgets/controls",
            "_model_module_version": "1.5.0",
            "_model_name": "HTMLModel",
            "_view_count": null,
            "_view_module": "@jupyter-widgets/controls",
            "_view_module_version": "1.5.0",
            "_view_name": "HTMLView",
            "description": "",
            "description_tooltip": null,
            "layout": "IPY_MODEL_df0b27305b5c405fada8b71480ea94fb",
            "placeholder": "​",
            "style": "IPY_MODEL_60350d9215714879b97b6af4f900f513",
            "value": " 170498071/170498071 [00:05&lt;00:00, 33276220.48it/s]"
          }
        },
        "35c5b7525075449e849d26edac74574e": {
          "model_module": "@jupyter-widgets/controls",
          "model_module_version": "1.5.0",
          "model_name": "HBoxModel",
          "state": {
            "_dom_classes": [],
            "_model_module": "@jupyter-widgets/controls",
            "_model_module_version": "1.5.0",
            "_model_name": "HBoxModel",
            "_view_count": null,
            "_view_module": "@jupyter-widgets/controls",
            "_view_module_version": "1.5.0",
            "_view_name": "HBoxView",
            "box_style": "",
            "children": [
              "IPY_MODEL_cd780dd4a3c44f02a243ebed67a7374c",
              "IPY_MODEL_5a498eebf0fd4df2900c448def8e0538",
              "IPY_MODEL_13e1e8cb9290458ea253eb58aa14702a"
            ],
            "layout": "IPY_MODEL_627e7da137dc4fa0953b42720876f468"
          }
        },
        "57d544f5308e4e70a2dd54ebce5927fe": {
          "model_module": "@jupyter-widgets/controls",
          "model_module_version": "1.5.0",
          "model_name": "DescriptionStyleModel",
          "state": {
            "_model_module": "@jupyter-widgets/controls",
            "_model_module_version": "1.5.0",
            "_model_name": "DescriptionStyleModel",
            "_view_count": null,
            "_view_module": "@jupyter-widgets/base",
            "_view_module_version": "1.2.0",
            "_view_name": "StyleView",
            "description_width": ""
          }
        },
        "5a498eebf0fd4df2900c448def8e0538": {
          "model_module": "@jupyter-widgets/controls",
          "model_module_version": "1.5.0",
          "model_name": "FloatProgressModel",
          "state": {
            "_dom_classes": [],
            "_model_module": "@jupyter-widgets/controls",
            "_model_module_version": "1.5.0",
            "_model_name": "FloatProgressModel",
            "_view_count": null,
            "_view_module": "@jupyter-widgets/controls",
            "_view_module_version": "1.5.0",
            "_view_name": "ProgressView",
            "bar_style": "success",
            "description": "",
            "description_tooltip": null,
            "layout": "IPY_MODEL_c31653e3b49649279563bf9e4fb2e6e2",
            "max": 170498071,
            "min": 0,
            "orientation": "horizontal",
            "style": "IPY_MODEL_615ccd879a5d4ab8adb1a5db34f23a44",
            "value": 170498071
          }
        },
        "60350d9215714879b97b6af4f900f513": {
          "model_module": "@jupyter-widgets/controls",
          "model_module_version": "1.5.0",
          "model_name": "DescriptionStyleModel",
          "state": {
            "_model_module": "@jupyter-widgets/controls",
            "_model_module_version": "1.5.0",
            "_model_name": "DescriptionStyleModel",
            "_view_count": null,
            "_view_module": "@jupyter-widgets/base",
            "_view_module_version": "1.2.0",
            "_view_name": "StyleView",
            "description_width": ""
          }
        },
        "615ccd879a5d4ab8adb1a5db34f23a44": {
          "model_module": "@jupyter-widgets/controls",
          "model_module_version": "1.5.0",
          "model_name": "ProgressStyleModel",
          "state": {
            "_model_module": "@jupyter-widgets/controls",
            "_model_module_version": "1.5.0",
            "_model_name": "ProgressStyleModel",
            "_view_count": null,
            "_view_module": "@jupyter-widgets/base",
            "_view_module_version": "1.2.0",
            "_view_name": "StyleView",
            "bar_color": null,
            "description_width": ""
          }
        },
        "627e7da137dc4fa0953b42720876f468": {
          "model_module": "@jupyter-widgets/base",
          "model_module_version": "1.2.0",
          "model_name": "LayoutModel",
          "state": {
            "_model_module": "@jupyter-widgets/base",
            "_model_module_version": "1.2.0",
            "_model_name": "LayoutModel",
            "_view_count": null,
            "_view_module": "@jupyter-widgets/base",
            "_view_module_version": "1.2.0",
            "_view_name": "LayoutView",
            "align_content": null,
            "align_items": null,
            "align_self": null,
            "border": null,
            "bottom": null,
            "display": null,
            "flex": null,
            "flex_flow": null,
            "grid_area": null,
            "grid_auto_columns": null,
            "grid_auto_flow": null,
            "grid_auto_rows": null,
            "grid_column": null,
            "grid_gap": null,
            "grid_row": null,
            "grid_template_areas": null,
            "grid_template_columns": null,
            "grid_template_rows": null,
            "height": null,
            "justify_content": null,
            "justify_items": null,
            "left": null,
            "margin": null,
            "max_height": null,
            "max_width": null,
            "min_height": null,
            "min_width": null,
            "object_fit": null,
            "object_position": null,
            "order": null,
            "overflow": null,
            "overflow_x": null,
            "overflow_y": null,
            "padding": null,
            "right": null,
            "top": null,
            "visibility": null,
            "width": null
          }
        },
        "c31653e3b49649279563bf9e4fb2e6e2": {
          "model_module": "@jupyter-widgets/base",
          "model_module_version": "1.2.0",
          "model_name": "LayoutModel",
          "state": {
            "_model_module": "@jupyter-widgets/base",
            "_model_module_version": "1.2.0",
            "_model_name": "LayoutModel",
            "_view_count": null,
            "_view_module": "@jupyter-widgets/base",
            "_view_module_version": "1.2.0",
            "_view_name": "LayoutView",
            "align_content": null,
            "align_items": null,
            "align_self": null,
            "border": null,
            "bottom": null,
            "display": null,
            "flex": null,
            "flex_flow": null,
            "grid_area": null,
            "grid_auto_columns": null,
            "grid_auto_flow": null,
            "grid_auto_rows": null,
            "grid_column": null,
            "grid_gap": null,
            "grid_row": null,
            "grid_template_areas": null,
            "grid_template_columns": null,
            "grid_template_rows": null,
            "height": null,
            "justify_content": null,
            "justify_items": null,
            "left": null,
            "margin": null,
            "max_height": null,
            "max_width": null,
            "min_height": null,
            "min_width": null,
            "object_fit": null,
            "object_position": null,
            "order": null,
            "overflow": null,
            "overflow_x": null,
            "overflow_y": null,
            "padding": null,
            "right": null,
            "top": null,
            "visibility": null,
            "width": null
          }
        },
        "cd780dd4a3c44f02a243ebed67a7374c": {
          "model_module": "@jupyter-widgets/controls",
          "model_module_version": "1.5.0",
          "model_name": "HTMLModel",
          "state": {
            "_dom_classes": [],
            "_model_module": "@jupyter-widgets/controls",
            "_model_module_version": "1.5.0",
            "_model_name": "HTMLModel",
            "_view_count": null,
            "_view_module": "@jupyter-widgets/controls",
            "_view_module_version": "1.5.0",
            "_view_name": "HTMLView",
            "description": "",
            "description_tooltip": null,
            "layout": "IPY_MODEL_ddab053036834754a6e1ebab55106196",
            "placeholder": "​",
            "style": "IPY_MODEL_57d544f5308e4e70a2dd54ebce5927fe",
            "value": "100%"
          }
        },
        "ddab053036834754a6e1ebab55106196": {
          "model_module": "@jupyter-widgets/base",
          "model_module_version": "1.2.0",
          "model_name": "LayoutModel",
          "state": {
            "_model_module": "@jupyter-widgets/base",
            "_model_module_version": "1.2.0",
            "_model_name": "LayoutModel",
            "_view_count": null,
            "_view_module": "@jupyter-widgets/base",
            "_view_module_version": "1.2.0",
            "_view_name": "LayoutView",
            "align_content": null,
            "align_items": null,
            "align_self": null,
            "border": null,
            "bottom": null,
            "display": null,
            "flex": null,
            "flex_flow": null,
            "grid_area": null,
            "grid_auto_columns": null,
            "grid_auto_flow": null,
            "grid_auto_rows": null,
            "grid_column": null,
            "grid_gap": null,
            "grid_row": null,
            "grid_template_areas": null,
            "grid_template_columns": null,
            "grid_template_rows": null,
            "height": null,
            "justify_content": null,
            "justify_items": null,
            "left": null,
            "margin": null,
            "max_height": null,
            "max_width": null,
            "min_height": null,
            "min_width": null,
            "object_fit": null,
            "object_position": null,
            "order": null,
            "overflow": null,
            "overflow_x": null,
            "overflow_y": null,
            "padding": null,
            "right": null,
            "top": null,
            "visibility": null,
            "width": null
          }
        },
        "df0b27305b5c405fada8b71480ea94fb": {
          "model_module": "@jupyter-widgets/base",
          "model_module_version": "1.2.0",
          "model_name": "LayoutModel",
          "state": {
            "_model_module": "@jupyter-widgets/base",
            "_model_module_version": "1.2.0",
            "_model_name": "LayoutModel",
            "_view_count": null,
            "_view_module": "@jupyter-widgets/base",
            "_view_module_version": "1.2.0",
            "_view_name": "LayoutView",
            "align_content": null,
            "align_items": null,
            "align_self": null,
            "border": null,
            "bottom": null,
            "display": null,
            "flex": null,
            "flex_flow": null,
            "grid_area": null,
            "grid_auto_columns": null,
            "grid_auto_flow": null,
            "grid_auto_rows": null,
            "grid_column": null,
            "grid_gap": null,
            "grid_row": null,
            "grid_template_areas": null,
            "grid_template_columns": null,
            "grid_template_rows": null,
            "height": null,
            "justify_content": null,
            "justify_items": null,
            "left": null,
            "margin": null,
            "max_height": null,
            "max_width": null,
            "min_height": null,
            "min_width": null,
            "object_fit": null,
            "object_position": null,
            "order": null,
            "overflow": null,
            "overflow_x": null,
            "overflow_y": null,
            "padding": null,
            "right": null,
            "top": null,
            "visibility": null,
            "width": null
          }
        }
      }
    }
  },
  "nbformat": 4,
  "nbformat_minor": 0
}
