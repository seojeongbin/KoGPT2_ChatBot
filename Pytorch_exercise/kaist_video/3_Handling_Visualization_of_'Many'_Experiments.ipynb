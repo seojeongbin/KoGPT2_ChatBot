{
  "cells": [
    {
      "cell_type": "markdown",
      "metadata": {
        "id": "c6Mu2R6Ae0aO"
      },
      "source": [
        "- reference : https://www.youtube.com/watch?v=7CMxgqvrDgg&list=PLSAJwo7mw8jn8iaXwT4MqLbZnS-LJwnBd&index=17\n",
        "- 각 실험결과들을 dict에 넣고 하나씩 append?\n",
        "    - 인터넷 튕기거나 코랩 문제있으면 실험결과 다 날라감\n",
        "- 하드디스크 저장방식을 사용하면 **중간에 프로세스 멈춰도 결과확인** 가능\n",
        "    - **JSON 활용**하기!\n",
        "    - 파라미터들을 JSON 파일명으로 쓰면 파라미터 많은경우 파일명으로 못쓰는경우 발생\n",
        "    - HASH 이용\n",
        "        - **deterministic하다**\n",
        "        - 하나의 input => 같은 result\n",
        "    - **내가 설정한 실험명 + hash 값을 통해서** 무슨 파라미터를 비교한 실험인지 알 수 있음!\n",
        "- 앞에는 다 같곡 \"Manage Experiment Result\" 이 부분만 보면 됨!"
      ]
    },
    {
      "cell_type": "markdown",
      "metadata": {},
      "source": [
        "- 만약 제가 하이퍼파라미터를 튜닝한다면 일반적으로..\n",
        "    - 레이어 수랑 히든 유닛 수를 조절해서 적절한 (성능이 나오면서 파라미터 수는 작은) Model Capacity를 찾구요\n",
        "    - Learning Rate를 조절하면서 적절한 속도로 학습이 되는 값을 찾습니다. (값이 너무 크면 loss가 요동치거나 발산합니다)\n",
        "    - Dropout과 l2 값을 조절하면서 Overfitting을 최대한 줄여보구요.\n",
        "    - BatchNormalization과 Xavier Initialization을 껐다 켜보면서 성능 변화가 어느 정도 일어나는지 확인해봅니다.\n",
        "- 이런 식으로 4~5개 정도의 실험을 거치면서 점점 하이퍼파라미터 영역을 좁혀나가면 그나마 안정적으로 값을 올릴 수 있었던 것 같습니다 :)\n",
        "- 시간이 되시는 분들은 Random Search를 해봐도 재밌을 것 같네요!(하지만 시각화는 쉽지 않겠죠?)\n",
        "- 그리고 추가로..\n",
        "    - Optimizer를 바꿔보세요!\n",
        "    - Activation Function을 바꿔보세요!"
      ]
    },
    {
      "cell_type": "code",
      "execution_count": 1,
      "metadata": {
        "id": "Q5Ej9jOce0aV"
      },
      "outputs": [],
      "source": [
        "!mkdir results # results라는 폴더에서 관리하기위해 폴더 생성"
      ]
    },
    {
      "cell_type": "code",
      "execution_count": 2,
      "metadata": {
        "id": "PD4cIKKvKFCC"
      },
      "outputs": [],
      "source": [
        "import torch\n",
        "import torchvision\n",
        "import torchvision.transforms as transforms\n",
        "import torch.nn as nn\n",
        "import torch.nn.functional as F\n",
        "import torch.optim as optim\n",
        "import argparse\n",
        "import numpy as np\n",
        "import time\n",
        "from copy import deepcopy # Add Deepcopy for args"
      ]
    },
    {
      "cell_type": "markdown",
      "metadata": {
        "id": "29UainWPco7Y"
      },
      "source": [
        "## Data Preparation"
      ]
    },
    {
      "cell_type": "code",
      "execution_count": 3,
      "metadata": {
        "colab": {
          "base_uri": "https://localhost:8080/",
          "height": 103,
          "referenced_widgets": [
            "e9ae9adf32c846108eb68af54ab5177c",
            "de9fac1669a3450ba7c27d175e7b5ee9",
            "2d1032f9ee294a80959dd4fe5dc0aefe",
            "05d2ce805a874fb592bd6627e11f35d8",
            "d1b8f5cc1b3a4338a8e7fbbff3c641ad",
            "3f8db7abd02e4cf0855e162953eee6d1",
            "a71a39749a4848d58e9a30dbfec717ce",
            "c65f55aeb11f4bf08072c57ddd37349b",
            "3ed5ee91259444039845b68a8489c334",
            "9f15a4e4651d42628493e4ae22d65099",
            "733b527227ae4c2c96a9f509575ed332"
          ]
        },
        "id": "Cu753dPPKGkV",
        "outputId": "94f1c45e-e14e-42d0-ffd8-7766bfa8b59e"
      },
      "outputs": [
        {
          "name": "stdout",
          "output_type": "stream",
          "text": [
            "Downloading https://www.cs.toronto.edu/~kriz/cifar-10-python.tar.gz to ./data/cifar-10-python.tar.gz\n"
          ]
        },
        {
          "data": {
            "application/vnd.jupyter.widget-view+json": {
              "model_id": "e9ae9adf32c846108eb68af54ab5177c",
              "version_major": 2,
              "version_minor": 0
            },
            "text/plain": [
              "  0%|          | 0/170498071 [00:00<?, ?it/s]"
            ]
          },
          "metadata": {},
          "output_type": "display_data"
        },
        {
          "name": "stdout",
          "output_type": "stream",
          "text": [
            "Extracting ./data/cifar-10-python.tar.gz to ./data\n",
            "Files already downloaded and verified\n"
          ]
        }
      ],
      "source": [
        "transform = transforms.Compose(\n",
        "    [transforms.ToTensor(),\n",
        "     transforms.Normalize((0.5, 0.5, 0.5), (0.5, 0.5, 0.5))])\n",
        "\n",
        "trainset = torchvision.datasets.CIFAR10(root='./data', train=True,\n",
        "                                        download=True, transform=transform)\n",
        "trainset, valset = torch.utils.data.random_split(trainset, [40000, 10000])\n",
        "testset = torchvision.datasets.CIFAR10(root='./data', train=False,\n",
        "                                       download=True, transform=transform)\n",
        "partition = {'train': trainset, 'val':valset, 'test':testset}"
      ]
    },
    {
      "cell_type": "markdown",
      "metadata": {
        "id": "RxnfFJwBcsAv"
      },
      "source": [
        "## Model Architecture"
      ]
    },
    {
      "cell_type": "code",
      "execution_count": 4,
      "metadata": {
        "id": "_G6bZbbkMWWt"
      },
      "outputs": [],
      "source": [
        "class MLP(nn.Module):\n",
        "    def __init__(self, in_dim, out_dim, hid_dim, n_layer, act, dropout, use_bn, use_xavier):\n",
        "        super(MLP, self).__init__()\n",
        "        self.in_dim = in_dim\n",
        "        self.out_dim = out_dim\n",
        "        self.hid_dim = hid_dim\n",
        "        self.n_layer = n_layer\n",
        "        self.act = act\n",
        "        self.dropout = dropout\n",
        "        self.use_bn = use_bn\n",
        "        self.use_xavier = use_xavier\n",
        "        \n",
        "        # ====== Create Linear Layers ====== #\n",
        "        self.fc1 = nn.Linear(self.in_dim, self.hid_dim)\n",
        "        \n",
        "        self.linears = nn.ModuleList()\n",
        "        self.bns = nn.ModuleList()\n",
        "        for i in range(self.n_layer-1):\n",
        "            self.linears.append(nn.Linear(self.hid_dim, self.hid_dim))\n",
        "            if self.use_bn:\n",
        "                self.bns.append(nn.BatchNorm1d(self.hid_dim))\n",
        "                \n",
        "        self.fc2 = nn.Linear(self.hid_dim, self.out_dim)\n",
        "        \n",
        "        # ====== Create Activation Function ====== #\n",
        "        if self.act == 'relu':\n",
        "            self.act = nn.ReLU()\n",
        "        elif self.act == 'tanh':\n",
        "            self.act == nn.Tanh()\n",
        "        elif self.act == 'sigmoid':\n",
        "            self.act = nn.Sigmoid()\n",
        "        else:\n",
        "            raise ValueError('no valid activation function selected!')\n",
        "        \n",
        "        # ====== Create Regularization Layer ======= #\n",
        "        self.dropout = nn.Dropout(self.dropout)\n",
        "        if self.use_xavier:\n",
        "            self.xavier_init()\n",
        "          \n",
        "    def forward(self, x):\n",
        "        x = self.act(self.fc1(x))\n",
        "        for i in range(len(self.linears)):\n",
        "            x = self.act(self.linears[i](x))\n",
        "            x = self.bns[i](x)\n",
        "            x = self.dropout(x)\n",
        "        x = self.fc2(x)\n",
        "        return x\n",
        "    \n",
        "    def xavier_init(self):\n",
        "        for linear in self.linears:\n",
        "            nn.init.xavier_normal_(linear.weight)\n",
        "            linear.bias.data.fill_(0.01)\n",
        "            \n",
        "net = MLP(3072, 10, 100, 4, 'relu', 0.1, True, True) # Testing Model Construction"
      ]
    },
    {
      "cell_type": "markdown",
      "metadata": {
        "id": "itGsp6jDWs_a"
      },
      "source": [
        "## Train, Validate, Test and Experiment"
      ]
    },
    {
      "cell_type": "code",
      "execution_count": 5,
      "metadata": {
        "id": "nG1eAvWue0ag"
      },
      "outputs": [],
      "source": [
        "def train(net, partition, optimizer, criterion, args):\n",
        "    trainloader = torch.utils.data.DataLoader(partition['train'], \n",
        "                                              batch_size=args.train_batch_size, \n",
        "                                              shuffle=True, num_workers=2)\n",
        "    net.train()\n",
        "\n",
        "    correct = 0\n",
        "    total = 0\n",
        "    train_loss = 0.0\n",
        "    for i, data in enumerate(trainloader, 0):\n",
        "        optimizer.zero_grad() \n",
        "\n",
        "        # get the inputs\n",
        "        inputs, labels = data\n",
        "        inputs = inputs.view(-1, 3072)\n",
        "        inputs = inputs.cuda()\n",
        "        labels = labels.cuda()\n",
        "        outputs = net(inputs)\n",
        "\n",
        "        loss = criterion(outputs, labels)\n",
        "        loss.backward()\n",
        "        optimizer.step()\n",
        "\n",
        "        train_loss += loss.item()\n",
        "        _, predicted = torch.max(outputs.data, 1)\n",
        "        total += labels.size(0)\n",
        "        correct += (predicted == labels).sum().item()\n",
        "\n",
        "    train_loss = train_loss / len(trainloader)\n",
        "    train_acc = 100 * correct / total\n",
        "    return net, train_loss, train_acc"
      ]
    },
    {
      "cell_type": "code",
      "execution_count": 6,
      "metadata": {
        "id": "H1itOVSDe0ah"
      },
      "outputs": [],
      "source": [
        "def validate(net, partition, criterion, args):\n",
        "    valloader = torch.utils.data.DataLoader(partition['val'], \n",
        "                                            batch_size=args.test_batch_size, \n",
        "                                            shuffle=False, num_workers=2)\n",
        "    net.eval()\n",
        "\n",
        "    correct = 0\n",
        "    total = 0\n",
        "    val_loss = 0 \n",
        "    with torch.no_grad():\n",
        "        for data in valloader:\n",
        "            images, labels = data\n",
        "            images = images.view(-1, 3072)\n",
        "            images = images.cuda()\n",
        "            labels = labels.cuda()\n",
        "            outputs = net(images)\n",
        "\n",
        "            loss = criterion(outputs, labels)\n",
        "            \n",
        "            val_loss += loss.item()\n",
        "            _, predicted = torch.max(outputs.data, 1)\n",
        "            total += labels.size(0)\n",
        "            correct += (predicted == labels).sum().item()\n",
        "\n",
        "        val_loss = val_loss / len(valloader)\n",
        "        val_acc = 100 * correct / total\n",
        "    return val_loss, val_acc"
      ]
    },
    {
      "cell_type": "code",
      "execution_count": 7,
      "metadata": {
        "id": "WtRlelEse0ai"
      },
      "outputs": [],
      "source": [
        "def test(net, partition, args):\n",
        "    testloader = torch.utils.data.DataLoader(partition['test'], \n",
        "                                             batch_size=args.test_batch_size, \n",
        "                                             shuffle=False, num_workers=2)\n",
        "    net.eval()\n",
        "    \n",
        "    correct = 0\n",
        "    total = 0\n",
        "    with torch.no_grad():\n",
        "        for data in testloader:\n",
        "            images, labels = data\n",
        "            images = images.view(-1, 3072)\n",
        "            images = images.cuda()\n",
        "            labels = labels.cuda()\n",
        "\n",
        "            outputs = net(images)\n",
        "            _, predicted = torch.max(outputs.data, 1)\n",
        "            total += labels.size(0)\n",
        "            correct += (predicted == labels).sum().item()\n",
        "\n",
        "        test_acc = 100 * correct / total\n",
        "    return test_acc"
      ]
    },
    {
      "cell_type": "code",
      "execution_count": 8,
      "metadata": {
        "id": "LiOCP6TqWw2V"
      },
      "outputs": [],
      "source": [
        "def experiment(partition, args):\n",
        "  \n",
        "    net = MLP(args.in_dim, args.out_dim, args.hid_dim, args.n_layer, args.act, args.dropout, args.use_bn, args.use_xavier)\n",
        "    net.cuda()\n",
        "\n",
        "    criterion = nn.CrossEntropyLoss()\n",
        "    if args.optim == 'SGD':\n",
        "        optimizer = optim.RMSprop(net.parameters(), lr=args.lr, weight_decay=args.l2)\n",
        "    elif args.optim == 'RMSprop':\n",
        "        optimizer = optim.RMSprop(net.parameters(), lr=args.lr, weight_decay=args.l2)\n",
        "    elif args.optim == 'Adam':\n",
        "        optimizer = optim.Adam(net.parameters(), lr=args.lr, weight_decay=args.l2)\n",
        "    else:\n",
        "        raise ValueError('In-valid optimizer choice')\n",
        "    \n",
        "    # ===== List for epoch-wise data ====== #\n",
        "    train_losses = []\n",
        "    val_losses = []\n",
        "    train_accs = []\n",
        "    val_accs = []\n",
        "    # ===================================== #\n",
        "        \n",
        "    for epoch in range(args.epoch):  # loop over the dataset multiple times\n",
        "        ts = time.time()\n",
        "        net, train_loss, train_acc = train(net, partition, optimizer, criterion, args)\n",
        "        val_loss, val_acc = validate(net, partition, criterion, args)\n",
        "        te = time.time()\n",
        "        \n",
        "        # ====== Add Epoch Data ====== #\n",
        "        train_losses.append(train_loss)\n",
        "        val_losses.append(val_loss)\n",
        "        train_accs.append(train_acc)\n",
        "        val_accs.append(val_acc)\n",
        "        # ============================ #\n",
        "        \n",
        "        print('Epoch {}, Acc(train/val): {:2.2f}/{:2.2f}, Loss(train/val) {:2.2f}/{:2.2f}. Took {:2.2f} sec'.format(epoch, train_acc, val_acc, train_loss, val_loss, te-ts))\n",
        "        \n",
        "    test_acc = test(net, partition, args)    \n",
        "    \n",
        "    # ======= Add Result to Dictionary ======= #\n",
        "    result = {}\n",
        "    result['train_losses'] = train_losses\n",
        "    result['val_losses'] = val_losses\n",
        "    result['train_accs'] = train_accs\n",
        "    result['val_accs'] = val_accs\n",
        "    result['train_acc'] = train_acc\n",
        "    result['val_acc'] = val_acc\n",
        "    result['test_acc'] = test_acc\n",
        "    return vars(args), result\n",
        "    # ===================================== #"
      ]
    },
    {
      "cell_type": "markdown",
      "metadata": {
        "id": "AdZJbfz6e0ak"
      },
      "source": [
        "# Manage Experiment Result\n",
        "- del epoch\n",
        "    - 같은 셋팅값이여도 학습이 잘되어서 epoch 수를 늘릴 수 있는데 그러면 epoch 바꿀때마다 파일이 계속 생겨버려서 살펴보고자하는 하이퍼파라미터 조정별 결과와는 좀 다른의미니까 삭제\n",
        "- del test_batch_size\n",
        "    - 테스트 배치 사이즈도 실험에 영향을 미치는 값은 아니니까"
      ]
    },
    {
      "cell_type": "code",
      "execution_count": 9,
      "metadata": {
        "id": "JO7KTrnxe0ak"
      },
      "outputs": [],
      "source": [
        "import hashlib\n",
        "import json\n",
        "from os import listdir\n",
        "from os.path import isfile, join\n",
        "import pandas as pd\n",
        "\n",
        "def save_exp_result(setting, result):\n",
        "    exp_name = setting['exp_name']\n",
        "    del setting['epoch']\n",
        "    del setting['test_batch_size']\n",
        "\n",
        "    hash_key = hashlib.sha1(str(setting).encode()).hexdigest()[:6] # 기타 자잘한 파라미터값들 등등다해서 hash 값이 생성됨!\n",
        "    filename = './results/{}-{}.json'.format(exp_name, hash_key) # 설정한 실험명-hash값 이렇게 파일명이 설정됨 (주요 파라미터로 실험이름 정하고)\n",
        "    result.update(setting)\n",
        "    with open(filename, 'w') as f:\n",
        "        json.dump(result, f)\n",
        "\n",
        "    \n",
        "def load_exp_result(exp_name):\n",
        "    dir_path = './results'\n",
        "    filenames = [f for f in listdir(dir_path) if isfile(join(dir_path, f)) if '.json' in f]\n",
        "    list_result = []\n",
        "    for filename in filenames:\n",
        "        if exp_name in filename:\n",
        "            with open(join(dir_path, filename), 'r') as infile:\n",
        "                results = json.load(infile)\n",
        "                list_result.append(results)\n",
        "    df = pd.DataFrame(list_result) # .drop(columns=[])\n",
        "    return df\n",
        "    "
      ]
    },
    {
      "cell_type": "markdown",
      "metadata": {
        "id": "omgExzmQgU1J"
      },
      "source": [
        "## Experiment\n",
        "- setattr 쓰는이유 : 지금은 n_layer지만 lr을 바꾼건 할때 위에는 바꿨지만 밑에는 안바꾸는 실수방지..\n",
        "    - 이러면 3시간 돌아가도 결과기록은 기존대로 되는 문제 발생 가능!\n",
        "- args.name_var1 = var1 이거랑 같은 문법이다."
      ]
    },
    {
      "cell_type": "code",
      "execution_count": 10,
      "metadata": {
        "colab": {
          "base_uri": "https://localhost:8080/"
        },
        "id": "DRoOy_B3Wu7B",
        "outputId": "e9b9a76e-2595-4cf7-8724-675d698f02eb"
      },
      "outputs": [
        {
          "name": "stdout",
          "output_type": "stream",
          "text": [
            "Namespace(act='relu', dropout=0.2, epoch=10, exp_name='exp1_n_layer_hid_dim', hid_dim=500, in_dim=3072, l2=1e-05, lr=0.0015, n_layer=1, optim='RMSprop', out_dim=10, test_batch_size=1024, train_batch_size=256, use_bn=True, use_xavier=True)\n",
            "Epoch 0, Acc(train/val): 37.66/35.93, Loss(train/val) 2.51/1.94. Took 12.66 sec\n",
            "Epoch 1, Acc(train/val): 46.55/38.89, Loss(train/val) 1.56/1.86. Took 9.76 sec\n",
            "Epoch 2, Acc(train/val): 48.80/42.35, Loss(train/val) 1.49/1.80. Took 9.88 sec\n",
            "Epoch 3, Acc(train/val): 51.11/43.89, Loss(train/val) 1.43/1.67. Took 9.81 sec\n",
            "Epoch 4, Acc(train/val): 53.08/44.92, Loss(train/val) 1.38/1.72. Took 9.75 sec\n",
            "Epoch 5, Acc(train/val): 55.19/44.53, Loss(train/val) 1.32/1.89. Took 9.84 sec\n",
            "Epoch 6, Acc(train/val): 56.89/46.28, Loss(train/val) 1.27/1.73. Took 9.83 sec\n",
            "Epoch 7, Acc(train/val): 58.51/41.89, Loss(train/val) 1.23/2.06. Took 10.71 sec\n",
            "Epoch 8, Acc(train/val): 59.72/46.50, Loss(train/val) 1.21/1.80. Took 10.24 sec\n",
            "Epoch 9, Acc(train/val): 62.02/46.50, Loss(train/val) 1.13/1.77. Took 9.76 sec\n",
            "Namespace(act='relu', dropout=0.2, epoch=10, exp_name='exp1_n_layer_hid_dim', hid_dim=300, in_dim=3072, l2=1e-05, lr=0.0015, n_layer=1, optim='RMSprop', out_dim=10, test_batch_size=1024, train_batch_size=256, use_bn=True, use_xavier=True)\n",
            "Epoch 0, Acc(train/val): 38.46/40.18, Loss(train/val) 2.24/1.73. Took 9.73 sec\n",
            "Epoch 1, Acc(train/val): 46.85/42.75, Loss(train/val) 1.53/1.70. Took 10.82 sec\n",
            "Epoch 2, Acc(train/val): 49.86/39.21, Loss(train/val) 1.45/1.92. Took 9.84 sec\n",
            "Epoch 3, Acc(train/val): 52.04/45.52, Loss(train/val) 1.39/1.62. Took 9.83 sec\n",
            "Epoch 4, Acc(train/val): 54.05/47.21, Loss(train/val) 1.34/1.57. Took 9.94 sec\n",
            "Epoch 5, Acc(train/val): 55.73/44.61, Loss(train/val) 1.29/1.70. Took 9.76 sec\n",
            "Epoch 6, Acc(train/val): 57.52/43.71, Loss(train/val) 1.25/1.87. Took 9.88 sec\n",
            "Epoch 7, Acc(train/val): 58.98/42.53, Loss(train/val) 1.22/1.95. Took 9.84 sec\n",
            "Epoch 8, Acc(train/val): 60.83/40.31, Loss(train/val) 1.17/2.16. Took 9.88 sec\n",
            "Epoch 9, Acc(train/val): 62.42/47.41, Loss(train/val) 1.11/1.76. Took 9.92 sec\n",
            "Namespace(act='relu', dropout=0.2, epoch=10, exp_name='exp1_n_layer_hid_dim', hid_dim=500, in_dim=3072, l2=1e-05, lr=0.0015, n_layer=2, optim='RMSprop', out_dim=10, test_batch_size=1024, train_batch_size=256, use_bn=True, use_xavier=True)\n",
            "Epoch 0, Acc(train/val): 36.77/35.97, Loss(train/val) 1.81/1.97. Took 10.03 sec\n",
            "Epoch 1, Acc(train/val): 46.16/44.91, Loss(train/val) 1.53/1.56. Took 10.00 sec\n",
            "Epoch 2, Acc(train/val): 49.79/36.24, Loss(train/val) 1.42/3.42. Took 9.97 sec\n",
            "Epoch 3, Acc(train/val): 52.80/45.03, Loss(train/val) 1.34/1.61. Took 11.06 sec\n",
            "Epoch 4, Acc(train/val): 55.04/47.92, Loss(train/val) 1.27/1.52. Took 9.98 sec\n",
            "Epoch 5, Acc(train/val): 57.60/49.51, Loss(train/val) 1.20/1.48. Took 9.95 sec\n",
            "Epoch 6, Acc(train/val): 59.56/45.52, Loss(train/val) 1.14/1.75. Took 9.95 sec\n",
            "Epoch 7, Acc(train/val): 61.62/47.37, Loss(train/val) 1.08/1.65. Took 9.99 sec\n",
            "Epoch 8, Acc(train/val): 63.82/50.43, Loss(train/val) 1.03/1.46. Took 9.97 sec\n",
            "Epoch 9, Acc(train/val): 65.36/46.87, Loss(train/val) 0.98/1.76. Took 10.19 sec\n",
            "Namespace(act='relu', dropout=0.2, epoch=10, exp_name='exp1_n_layer_hid_dim', hid_dim=300, in_dim=3072, l2=1e-05, lr=0.0015, n_layer=2, optim='RMSprop', out_dim=10, test_batch_size=1024, train_batch_size=256, use_bn=True, use_xavier=True)\n",
            "Epoch 0, Acc(train/val): 37.84/41.36, Loss(train/val) 1.75/1.63. Took 10.10 sec\n",
            "Epoch 1, Acc(train/val): 46.85/43.49, Loss(train/val) 1.50/1.71. Took 10.04 sec\n",
            "Epoch 2, Acc(train/val): 50.41/46.96, Loss(train/val) 1.40/1.50. Took 10.01 sec\n",
            "Epoch 3, Acc(train/val): 53.13/44.71, Loss(train/val) 1.33/1.67. Took 10.05 sec\n",
            "Epoch 4, Acc(train/val): 54.84/48.05, Loss(train/val) 1.27/1.48. Took 10.16 sec\n",
            "Epoch 5, Acc(train/val): 56.64/42.84, Loss(train/val) 1.22/1.84. Took 10.36 sec\n",
            "Epoch 6, Acc(train/val): 58.62/50.35, Loss(train/val) 1.17/1.45. Took 10.13 sec\n",
            "Epoch 7, Acc(train/val): 60.61/49.25, Loss(train/val) 1.11/1.51. Took 10.08 sec\n",
            "Epoch 8, Acc(train/val): 62.28/49.15, Loss(train/val) 1.07/1.55. Took 10.13 sec\n",
            "Epoch 9, Acc(train/val): 63.97/42.49, Loss(train/val) 1.02/2.12. Took 11.11 sec\n",
            "Namespace(act='relu', dropout=0.2, epoch=10, exp_name='exp1_n_layer_hid_dim', hid_dim=500, in_dim=3072, l2=1e-05, lr=0.0015, n_layer=3, optim='RMSprop', out_dim=10, test_batch_size=1024, train_batch_size=256, use_bn=True, use_xavier=True)\n",
            "Epoch 0, Acc(train/val): 35.86/35.28, Loss(train/val) 1.84/1.89. Took 10.24 sec\n",
            "Epoch 1, Acc(train/val): 45.55/37.44, Loss(train/val) 1.52/1.88. Took 13.29 sec\n",
            "Epoch 2, Acc(train/val): 49.89/42.40, Loss(train/val) 1.40/1.64. Took 12.74 sec\n",
            "Epoch 3, Acc(train/val): 52.79/47.27, Loss(train/val) 1.32/1.50. Took 11.99 sec\n",
            "Epoch 4, Acc(train/val): 55.44/46.76, Loss(train/val) 1.24/1.52. Took 12.93 sec\n",
            "Epoch 5, Acc(train/val): 57.84/45.78, Loss(train/val) 1.18/1.57. Took 10.21 sec\n",
            "Epoch 6, Acc(train/val): 59.89/50.16, Loss(train/val) 1.12/1.45. Took 10.28 sec\n",
            "Epoch 7, Acc(train/val): 62.10/47.87, Loss(train/val) 1.06/1.62. Took 13.23 sec\n",
            "Epoch 8, Acc(train/val): 64.11/49.44, Loss(train/val) 1.01/1.64. Took 13.05 sec\n",
            "Epoch 9, Acc(train/val): 66.35/50.42, Loss(train/val) 0.94/1.54. Took 12.41 sec\n",
            "Namespace(act='relu', dropout=0.2, epoch=10, exp_name='exp1_n_layer_hid_dim', hid_dim=300, in_dim=3072, l2=1e-05, lr=0.0015, n_layer=3, optim='RMSprop', out_dim=10, test_batch_size=1024, train_batch_size=256, use_bn=True, use_xavier=True)\n",
            "Epoch 0, Acc(train/val): 36.35/38.89, Loss(train/val) 1.78/1.69. Took 12.18 sec\n",
            "Epoch 1, Acc(train/val): 45.58/40.57, Loss(train/val) 1.53/1.65. Took 12.99 sec\n",
            "Epoch 2, Acc(train/val): 49.53/41.92, Loss(train/val) 1.41/1.68. Took 12.07 sec\n",
            "Epoch 3, Acc(train/val): 52.48/44.21, Loss(train/val) 1.33/1.58. Took 11.08 sec\n",
            "Epoch 4, Acc(train/val): 54.91/49.49, Loss(train/val) 1.26/1.43. Took 11.99 sec\n",
            "Epoch 5, Acc(train/val): 57.40/48.54, Loss(train/val) 1.20/1.44. Took 10.33 sec\n",
            "Epoch 6, Acc(train/val): 59.17/49.31, Loss(train/val) 1.15/1.48. Took 10.53 sec\n",
            "Epoch 7, Acc(train/val): 60.93/48.79, Loss(train/val) 1.09/1.52. Took 11.56 sec\n",
            "Epoch 8, Acc(train/val): 63.08/48.83, Loss(train/val) 1.04/1.51. Took 10.96 sec\n",
            "Epoch 9, Acc(train/val): 64.64/48.28, Loss(train/val) 0.99/1.75. Took 10.35 sec\n"
          ]
        }
      ],
      "source": [
        "# ====== Random Seed Initialization ====== #\n",
        "seed = 123\n",
        "np.random.seed(seed)\n",
        "torch.manual_seed(seed)\n",
        "\n",
        "parser = argparse.ArgumentParser()\n",
        "args = parser.parse_args(\"\")\n",
        "args.exp_name = \"exp1_n_layer_hid_dim\" # 실험1 : 레이어수, hid_dim을 조정한 실험이란뜻으로 이런식으로 정의.\n",
        "\n",
        "# ====== Model Capacity ====== #\n",
        "args.in_dim = 3072\n",
        "args.out_dim = 10\n",
        "args.hid_dim = 100\n",
        "args.act = 'relu'\n",
        "\n",
        "# ====== Regularization ======= #\n",
        "args.dropout = 0.2\n",
        "args.use_bn = True\n",
        "args.l2 = 0.00001\n",
        "args.use_xavier = True\n",
        "\n",
        "# ====== Optimizer & Training ====== #\n",
        "args.optim = 'RMSprop' #'RMSprop' #SGD, RMSprop, ADAM...\n",
        "args.lr = 0.0015\n",
        "args.epoch = 10\n",
        "\n",
        "args.train_batch_size = 256\n",
        "args.test_batch_size = 1024\n",
        "\n",
        "# ====== Experiment Variable ====== #\n",
        "name_var1 = 'n_layer'\n",
        "name_var2 = 'hid_dim'\n",
        "list_var1 = [1, 2, 3]\n",
        "list_var2 = [500, 300]\n",
        "\n",
        "\n",
        "for var1 in list_var1:\n",
        "    for var2 in list_var2:\n",
        "        setattr(args, name_var1, var1) # args.name_var1 = var1 랑 같음\n",
        "        setattr(args, name_var2, var2)\n",
        "        print(args)\n",
        "                \n",
        "        setting, result = experiment(partition, deepcopy(args))\n",
        "        save_exp_result(setting, result)\n"
      ]
    },
    {
      "cell_type": "code",
      "execution_count": 11,
      "metadata": {
        "colab": {
          "base_uri": "https://localhost:8080/",
          "height": 407
        },
        "id": "NnzJwLsNe0am",
        "outputId": "79fcbfda-607a-4b5f-94a0-19a9eafaae05"
      },
      "outputs": [
        {
          "data": {
            "text/plain": [
              "<matplotlib.axes._subplots.AxesSubplot at 0x7f1455ca4dc0>"
            ]
          },
          "execution_count": 11,
          "metadata": {},
          "output_type": "execute_result"
        },
        {
          "data": {
            "image/png": "[encoded data removed]",
            "text/plain": [
              "<Figure size 1080x432 with 3 Axes>"
            ]
          },
          "metadata": {
            "needs_background": "light"
          },
          "output_type": "display_data"
        }
      ],
      "source": [
        "import seaborn as sns \n",
        "import matplotlib.pyplot as plt\n",
        "\n",
        "df = load_exp_result('exp1')\n",
        "\n",
        "fig, ax = plt.subplots(1, 3)\n",
        "fig.set_size_inches(15, 6)\n",
        "sns.set_style(\"darkgrid\", {\"axes.facecolor\": \".9\"})\n",
        "\n",
        "sns.barplot(x='n_layer', y='train_acc', hue='hid_dim', data=df, ax=ax[0])\n",
        "sns.barplot(x='n_layer', y='val_acc', hue='hid_dim', data=df, ax=ax[1])\n",
        "sns.barplot(x='n_layer', y='test_acc', hue='hid_dim', data=df, ax=ax[2])\n"
      ]
    },
    {
      "cell_type": "code",
      "execution_count": 12,
      "metadata": {
        "colab": {
          "base_uri": "https://localhost:8080/",
          "height": 443
        },
        "id": "KpT-LNB3e0an",
        "outputId": "94fe215c-1f04-41ee-9311-8b4aefbbbcc7"
      },
      "outputs": [
        {
          "data": {
            "image/png": "[encoded data removed]",
            "text/plain": [
              "<Figure size 707.375x432 with 6 Axes>"
            ]
          },
          "metadata": {},
          "output_type": "display_data"
        }
      ],
      "source": [
        "var1 = 'n_layer'\n",
        "var2 = 'hid_dim'\n",
        "\n",
        "df = load_exp_result('exp1')\n",
        "list_v1 = df[var1].unique()\n",
        "list_v2 = df[var2].unique()\n",
        "list_data = []\n",
        "\n",
        "for value1 in list_v1:\n",
        "    for value2 in list_v2:\n",
        "        row = df.loc[df[var1]==value1]\n",
        "        row = row.loc[df[var2]==value2]\n",
        "        \n",
        "        train_losses = list(row.train_losses)[0]\n",
        "        val_losses = list(row.val_losses)[0]\n",
        "        \n",
        "        for epoch, train_loss in enumerate(train_losses):\n",
        "            list_data.append({'type':'train', 'loss':train_loss, 'epoch':epoch, var1:value1, var2:value2})\n",
        "        for epoch, val_loss in enumerate(val_losses):\n",
        "            list_data.append({'type':'val', 'loss':val_loss, 'epoch':epoch, var1:value1, var2:value2})\n",
        "        \n",
        "df = pd.DataFrame(list_data)\n",
        "g = sns.FacetGrid(df, row=var2, col=var1, hue='type', margin_titles=True, sharey=False) # FactGrid : n_layer, epoch에 따라 grid하게 그림그릴때 사용함!\n",
        "g = g.map(plt.plot, 'epoch', 'loss', marker='.')\n",
        "g.add_legend()\n",
        "g.fig.suptitle('Train loss vs Val loss')\n",
        "plt.subplots_adjust(top=0.89)"
      ]
    },
    {
      "cell_type": "code",
      "execution_count": 13,
      "metadata": {
        "colab": {
          "base_uri": "https://localhost:8080/",
          "height": 443
        },
        "id": "nYx4ZS2Ze0an",
        "outputId": "cb3859b9-3218-45e3-96bc-30c4169c2b15"
      },
      "outputs": [
        {
          "data": {
            "image/png": "[encoded data removed]",
            "text/plain": [
              "<Figure size 707.375x432 with 6 Axes>"
            ]
          },
          "metadata": {},
          "output_type": "display_data"
        }
      ],
      "source": [
        "var1 = 'n_layer'\n",
        "var2 = 'hid_dim'\n",
        "\n",
        "df = load_exp_result('exp1')\n",
        "list_v1 = df[var1].unique()\n",
        "list_v2 = df[var2].unique()\n",
        "list_data = []\n",
        "\n",
        "for value1 in list_v1:\n",
        "    for value2 in list_v2:\n",
        "        row = df.loc[df[var1]==value1]\n",
        "        row = row.loc[df[var2]==value2]\n",
        "        \n",
        "        train_accs = list(row.train_accs)[0]\n",
        "        val_accs = list(row.val_accs)[0]\n",
        "        test_acc = list(row.test_acc)[0]\n",
        "        \n",
        "        for epoch, train_acc in enumerate(train_accs):\n",
        "            list_data.append({'type':'train', 'Acc':train_acc, 'test_acc':test_acc, 'epoch':epoch, var1:value1, var2:value2})\n",
        "        for epoch, val_acc in enumerate(val_accs):\n",
        "            list_data.append({'type':'val', 'Acc':val_acc, 'test_acc':test_acc, 'epoch':epoch, var1:value1, var2:value2})\n",
        "        \n",
        "df = pd.DataFrame(list_data)\n",
        "g = sns.FacetGrid(df, row=var2, col=var1, hue='type', margin_titles=True, sharey=False)\n",
        "g = g.map(plt.plot, 'epoch', 'Acc', marker='.')\n",
        "\n",
        "def show_acc(x, y, metric, **kwargs):\n",
        "    plt.scatter(x, y, alpha=0.3, s=1)\n",
        "    metric = \"Test Acc: {:1.3f}\".format(list(metric.values)[0])\n",
        "    plt.text(0.05, 0.95, metric,  horizontalalignment='left', verticalalignment='center', transform=plt.gca().transAxes, bbox=dict(facecolor='yellow', alpha=0.5, boxstyle=\"round,pad=0.1\"))\n",
        "g = g.map(show_acc, 'epoch', 'Acc', 'test_acc')\n",
        "\n",
        "g.add_legend()\n",
        "g.fig.suptitle('Train Accuracy vs Val Accuracy')\n",
        "\n",
        "\n",
        "\n",
        "plt.subplots_adjust(top=0.89)"
      ]
    }
  ],
  "metadata": {
    "accelerator": "GPU",
    "colab": {
      "provenance": []
    },
    "gpuClass": "standard",
    "kernelspec": {
      "display_name": "Python 3.8.13 ('kotorch')",
      "language": "python",
      "name": "python3"
    },
    "language_info": {
      "name": "python",
      "version": "3.8.13"
    },
    "vscode": {
      "interpreter": {
        "hash": "e394b0e5950b2ed9ac02d3d0f43da50df004fa03f183c9ffe2862d4a06a95d21"
      }
    },
    "widgets": {
      "application/vnd.jupyter.widget-state+json": {
        "05d2ce805a874fb592bd6627e11f35d8": {
          "model_module": "@jupyter-widgets/controls",
          "model_module_version": "1.5.0",
          "model_name": "HTMLModel",
          "state": {
            "_dom_classes": [],
            "_model_module": "@jupyter-widgets/controls",
            "_model_module_version": "1.5.0",
            "_model_name": "HTMLModel",
            "_view_count": null,
            "_view_module": "@jupyter-widgets/controls",
            "_view_module_version": "1.5.0",
            "_view_name": "HTMLView",
            "description": "",
            "description_tooltip": null,
            "layout": "IPY_MODEL_9f15a4e4651d42628493e4ae22d65099",
            "placeholder": "​",
            "style": "IPY_MODEL_733b527227ae4c2c96a9f509575ed332",
            "value": " 170498071/170498071 [00:11&lt;00:00, 19025285.55it/s]"
          }
        },
        "2d1032f9ee294a80959dd4fe5dc0aefe": {
          "model_module": "@jupyter-widgets/controls",
          "model_module_version": "1.5.0",
          "model_name": "FloatProgressModel",
          "state": {
            "_dom_classes": [],
            "_model_module": "@jupyter-widgets/controls",
            "_model_module_version": "1.5.0",
            "_model_name": "FloatProgressModel",
            "_view_count": null,
            "_view_module": "@jupyter-widgets/controls",
            "_view_module_version": "1.5.0",
            "_view_name": "ProgressView",
            "bar_style": "success",
            "description": "",
            "description_tooltip": null,
            "layout": "IPY_MODEL_c65f55aeb11f4bf08072c57ddd37349b",
            "max": 170498071,
            "min": 0,
            "orientation": "horizontal",
            "style": "IPY_MODEL_3ed5ee91259444039845b68a8489c334",
            "value": 170498071
          }
        },
        "3ed5ee91259444039845b68a8489c334": {
          "model_module": "@jupyter-widgets/controls",
          "model_module_version": "1.5.0",
          "model_name": "ProgressStyleModel",
          "state": {
            "_model_module": "@jupyter-widgets/controls",
            "_model_module_version": "1.5.0",
            "_model_name": "ProgressStyleModel",
            "_view_count": null,
            "_view_module": "@jupyter-widgets/base",
            "_view_module_version": "1.2.0",
            "_view_name": "StyleView",
            "bar_color": null,
            "description_width": ""
          }
        },
        "3f8db7abd02e4cf0855e162953eee6d1": {
          "model_module": "@jupyter-widgets/base",
          "model_module_version": "1.2.0",
          "model_name": "LayoutModel",
          "state": {
            "_model_module": "@jupyter-widgets/base",
            "_model_module_version": "1.2.0",
            "_model_name": "LayoutModel",
            "_view_count": null,
            "_view_module": "@jupyter-widgets/base",
            "_view_module_version": "1.2.0",
            "_view_name": "LayoutView",
            "align_content": null,
            "align_items": null,
            "align_self": null,
            "border": null,
            "bottom": null,
            "display": null,
            "flex": null,
            "flex_flow": null,
            "grid_area": null,
            "grid_auto_columns": null,
            "grid_auto_flow": null,
            "grid_auto_rows": null,
            "grid_column": null,
            "grid_gap": null,
            "grid_row": null,
            "grid_template_areas": null,
            "grid_template_columns": null,
            "grid_template_rows": null,
            "height": null,
            "justify_content": null,
            "justify_items": null,
            "left": null,
            "margin": null,
            "max_height": null,
            "max_width": null,
            "min_height": null,
            "min_width": null,
            "object_fit": null,
            "object_position": null,
            "order": null,
            "overflow": null,
            "overflow_x": null,
            "overflow_y": null,
            "padding": null,
            "right": null,
            "top": null,
            "visibility": null,
            "width": null
          }
        },
        "733b527227ae4c2c96a9f509575ed332": {
          "model_module": "@jupyter-widgets/controls",
          "model_module_version": "1.5.0",
          "model_name": "DescriptionStyleModel",
          "state": {
            "_model_module": "@jupyter-widgets/controls",
            "_model_module_version": "1.5.0",
            "_model_name": "DescriptionStyleModel",
            "_view_count": null,
            "_view_module": "@jupyter-widgets/base",
            "_view_module_version": "1.2.0",
            "_view_name": "StyleView",
            "description_width": ""
          }
        },
        "9f15a4e4651d42628493e4ae22d65099": {
          "model_module": "@jupyter-widgets/base",
          "model_module_version": "1.2.0",
          "model_name": "LayoutModel",
          "state": {
            "_model_module": "@jupyter-widgets/base",
            "_model_module_version": "1.2.0",
            "_model_name": "LayoutModel",
            "_view_count": null,
            "_view_module": "@jupyter-widgets/base",
            "_view_module_version": "1.2.0",
            "_view_name": "LayoutView",
            "align_content": null,
            "align_items": null,
            "align_self": null,
            "border": null,
            "bottom": null,
            "display": null,
            "flex": null,
            "flex_flow": null,
            "grid_area": null,
            "grid_auto_columns": null,
            "grid_auto_flow": null,
            "grid_auto_rows": null,
            "grid_column": null,
            "grid_gap": null,
            "grid_row": null,
            "grid_template_areas": null,
            "grid_template_columns": null,
            "grid_template_rows": null,
            "height": null,
            "justify_content": null,
            "justify_items": null,
            "left": null,
            "margin": null,
            "max_height": null,
            "max_width": null,
            "min_height": null,
            "min_width": null,
            "object_fit": null,
            "object_position": null,
            "order": null,
            "overflow": null,
            "overflow_x": null,
            "overflow_y": null,
            "padding": null,
            "right": null,
            "top": null,
            "visibility": null,
            "width": null
          }
        },
        "a71a39749a4848d58e9a30dbfec717ce": {
          "model_module": "@jupyter-widgets/controls",
          "model_module_version": "1.5.0",
          "model_name": "DescriptionStyleModel",
          "state": {
            "_model_module": "@jupyter-widgets/controls",
            "_model_module_version": "1.5.0",
            "_model_name": "DescriptionStyleModel",
            "_view_count": null,
            "_view_module": "@jupyter-widgets/base",
            "_view_module_version": "1.2.0",
            "_view_name": "StyleView",
            "description_width": ""
          }
        },
        "c65f55aeb11f4bf08072c57ddd37349b": {
          "model_module": "@jupyter-widgets/base",
          "model_module_version": "1.2.0",
          "model_name": "LayoutModel",
          "state": {
            "_model_module": "@jupyter-widgets/base",
            "_model_module_version": "1.2.0",
            "_model_name": "LayoutModel",
            "_view_count": null,
            "_view_module": "@jupyter-widgets/base",
            "_view_module_version": "1.2.0",
            "_view_name": "LayoutView",
            "align_content": null,
            "align_items": null,
            "align_self": null,
            "border": null,
            "bottom": null,
            "display": null,
            "flex": null,
            "flex_flow": null,
            "grid_area": null,
            "grid_auto_columns": null,
            "grid_auto_flow": null,
            "grid_auto_rows": null,
            "grid_column": null,
            "grid_gap": null,
            "grid_row": null,
            "grid_template_areas": null,
            "grid_template_columns": null,
            "grid_template_rows": null,
            "height": null,
            "justify_content": null,
            "justify_items": null,
            "left": null,
            "margin": null,
            "max_height": null,
            "max_width": null,
            "min_height": null,
            "min_width": null,
            "object_fit": null,
            "object_position": null,
            "order": null,
            "overflow": null,
            "overflow_x": null,
            "overflow_y": null,
            "padding": null,
            "right": null,
            "top": null,
            "visibility": null,
            "width": null
          }
        },
        "d1b8f5cc1b3a4338a8e7fbbff3c641ad": {
          "model_module": "@jupyter-widgets/base",
          "model_module_version": "1.2.0",
          "model_name": "LayoutModel",
          "state": {
            "_model_module": "@jupyter-widgets/base",
            "_model_module_version": "1.2.0",
            "_model_name": "LayoutModel",
            "_view_count": null,
            "_view_module": "@jupyter-widgets/base",
            "_view_module_version": "1.2.0",
            "_view_name": "LayoutView",
            "align_content": null,
            "align_items": null,
            "align_self": null,
            "border": null,
            "bottom": null,
            "display": null,
            "flex": null,
            "flex_flow": null,
            "grid_area": null,
            "grid_auto_columns": null,
            "grid_auto_flow": null,
            "grid_auto_rows": null,
            "grid_column": null,
            "grid_gap": null,
            "grid_row": null,
            "grid_template_areas": null,
            "grid_template_columns": null,
            "grid_template_rows": null,
            "height": null,
            "justify_content": null,
            "justify_items": null,
            "left": null,
            "margin": null,
            "max_height": null,
            "max_width": null,
            "min_height": null,
            "min_width": null,
            "object_fit": null,
            "object_position": null,
            "order": null,
            "overflow": null,
            "overflow_x": null,
            "overflow_y": null,
            "padding": null,
            "right": null,
            "top": null,
            "visibility": null,
            "width": null
          }
        },
        "de9fac1669a3450ba7c27d175e7b5ee9": {
          "model_module": "@jupyter-widgets/controls",
          "model_module_version": "1.5.0",
          "model_name": "HTMLModel",
          "state": {
            "_dom_classes": [],
            "_model_module": "@jupyter-widgets/controls",
            "_model_module_version": "1.5.0",
            "_model_name": "HTMLModel",
            "_view_count": null,
            "_view_module": "@jupyter-widgets/controls",
            "_view_module_version": "1.5.0",
            "_view_name": "HTMLView",
            "description": "",
            "description_tooltip": null,
            "layout": "IPY_MODEL_3f8db7abd02e4cf0855e162953eee6d1",
            "placeholder": "​",
            "style": "IPY_MODEL_a71a39749a4848d58e9a30dbfec717ce",
            "value": "100%"
          }
        },
        "e9ae9adf32c846108eb68af54ab5177c": {
          "model_module": "@jupyter-widgets/controls",
          "model_module_version": "1.5.0",
          "model_name": "HBoxModel",
          "state": {
            "_dom_classes": [],
            "_model_module": "@jupyter-widgets/controls",
            "_model_module_version": "1.5.0",
            "_model_name": "HBoxModel",
            "_view_count": null,
            "_view_module": "@jupyter-widgets/controls",
            "_view_module_version": "1.5.0",
            "_view_name": "HBoxView",
            "box_style": "",
            "children": [
              "IPY_MODEL_de9fac1669a3450ba7c27d175e7b5ee9",
              "IPY_MODEL_2d1032f9ee294a80959dd4fe5dc0aefe",
              "IPY_MODEL_05d2ce805a874fb592bd6627e11f35d8"
            ],
            "layout": "IPY_MODEL_d1b8f5cc1b3a4338a8e7fbbff3c641ad"
          }
        }
      }
    }
  },
  "nbformat": 4,
  "nbformat_minor": 0
}
