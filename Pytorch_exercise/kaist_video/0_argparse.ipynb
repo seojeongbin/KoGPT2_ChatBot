{
 "cells": [
  {
   "cell_type": "markdown",
   "metadata": {},
   "source": [
    "### Argparse를 쓰는이유\n",
    "- 가독성(결국 나중에 내가 다시 봤을때 잘 알아보기 위함), 코드 재사용성, 하이퍼파라미터 별 실험결과 비교 가능 등의 이유에서 굉장히 좋음\n",
    "- -> 그래서 결국 **변수들을 코드 내부에 상수로 두지않기 위해** 쓰는거임!\n",
    "    - 그런데 이걸 딕셔너리가 아닌 더 편한 '.'으로 할 수 있고, 사용자 입력으로도 받을 수 있단 거임"
   ]
  },
  {
   "cell_type": "markdown",
   "metadata": {},
   "source": [
    "![argparse.png](./png/argparse.png)"
   ]
  },
  {
   "cell_type": "code",
   "execution_count": 1,
   "metadata": {},
   "outputs": [],
   "source": [
    "import argparse\n",
    "\n",
    "parser = argparse.ArgumentParser()\n",
    "args = parser.parse_args(\"\")"
   ]
  },
  {
   "cell_type": "code",
   "execution_count": 2,
   "metadata": {},
   "outputs": [
    {
     "name": "stdout",
     "output_type": "stream",
     "text": [
      "Namespace(num_layer=5)\n"
     ]
    }
   ],
   "source": [
    "args.num_layer = 5 # 이게 args라는 딕셔너리에 num_layer라는 키로 value 5 주는거랑 같음\n",
    "print(args)"
   ]
  },
  {
   "cell_type": "code",
   "execution_count": 4,
   "metadata": {},
   "outputs": [
    {
     "name": "stdout",
     "output_type": "stream",
     "text": [
      "Namespace(input_dim=100, num_layer=5)\n"
     ]
    }
   ],
   "source": [
    "args.input_dim = 100 \n",
    "print(args) # 이렇게 append 된다"
   ]
  },
  {
   "cell_type": "code",
   "execution_count": 6,
   "metadata": {},
   "outputs": [
    {
     "name": "stdout",
     "output_type": "stream",
     "text": [
      "[0, 1, 2, 3, 4]\n"
     ]
    }
   ],
   "source": [
    "Linearse = []\n",
    "for i in range(args.num_layer) : \n",
    "    Linearse.append(i) # num_layer 수 만큼 MLP로 둔다거나 할 수 있는거지\n",
    "    \n",
    "print(Linearse)"
   ]
  }
 ],
 "metadata": {
  "kernelspec": {
   "display_name": "Python 3.8.13 ('kotorch')",
   "language": "python",
   "name": "python3"
  },
  "language_info": {
   "codemirror_mode": {
    "name": "ipython",
    "version": 3
   },
   "file_extension": ".py",
   "mimetype": "text/x-python",
   "name": "python",
   "nbconvert_exporter": "python",
   "pygments_lexer": "ipython3",
   "version": "3.8.13"
  },
  "orig_nbformat": 4,
  "vscode": {
   "interpreter": {
    "hash": "e394b0e5950b2ed9ac02d3d0f43da50df004fa03f183c9ffe2862d4a06a95d21"
   }
  }
 },
 "nbformat": 4,
 "nbformat_minor": 2
}
