{
  "cells": [
    {
      "cell_type": "markdown",
      "metadata": {
        "id": "WcWOsw-VI_XK"
      },
      "source": [
        "- reference : https://www.youtube.com/watch?v=qx9uglq80Qs&list=PLSAJwo7mw8jn8iaXwT4MqLbZnS-LJwnBd&index=15"
      ]
    },
    {
      "cell_type": "code",
      "execution_count": 1,
      "metadata": {
        "id": "PD4cIKKvKFCC"
      },
      "outputs": [],
      "source": [
        "import torch\n",
        "import torchvision\n",
        "import torchvision.transforms as transforms\n",
        "import torch.nn as nn\n",
        "import torch.nn.functional as F\n",
        "import torch.optim as optim\n",
        "import argparse\n",
        "import numpy as np\n",
        "import time"
      ]
    },
    {
      "cell_type": "markdown",
      "metadata": {
        "id": "29UainWPco7Y"
      },
      "source": [
        "## Data Preparation\n",
        "- dataset부분에서 partition이라는 dict을 쓰는 이유는 batch size도 hyper param으로 쓰기위함임\n",
        "- 그래서 partition['train']하면 그냥 train에 해당하는 데이터셋임 ㅇㅇ"
      ]
    },
    {
      "cell_type": "code",
      "execution_count": 2,
      "metadata": {
        "colab": {
          "base_uri": "https://localhost:8080/",
          "height": 103,
          "referenced_widgets": [
            "97353263933b4d64a9626929147f6487",
            "7bd6b00095a34816874dc3f71e16ddc5",
            "1e311bc20ad7441ca7e433f964880a2f",
            "2945eaf912024667998114468c850fa0",
            "cd4c786562c94bb89b4da6a85a9b78c1",
            "d8584427142f4f8bad0cf4f163bda797",
            "05f8620091b446c98be60d4509fa804a",
            "c976512826af428bbf250e5f074262bf",
            "22524e297b8442258a2fe58f0cb520d7",
            "a09a8bb98c2e4e068f8ee9c690a787c1",
            "ad9521dbc6754982b22b1742a04a5e22"
          ]
        },
        "id": "Cu753dPPKGkV",
        "outputId": "8db0cdc6-10ec-457a-b7f4-ff365686ac5d"
      },
      "outputs": [
        {
          "name": "stdout",
          "output_type": "stream",
          "text": [
            "Downloading https://www.cs.toronto.edu/~kriz/cifar-10-python.tar.gz to ./data/cifar-10-python.tar.gz\n"
          ]
        },
        {
          "data": {
            "application/vnd.jupyter.widget-view+json": {
              "model_id": "97353263933b4d64a9626929147f6487",
              "version_major": 2,
              "version_minor": 0
            },
            "text/plain": [
              "  0%|          | 0/170498071 [00:00<?, ?it/s]"
            ]
          },
          "metadata": {},
          "output_type": "display_data"
        },
        {
          "name": "stdout",
          "output_type": "stream",
          "text": [
            "Extracting ./data/cifar-10-python.tar.gz to ./data\n",
            "Files already downloaded and verified\n"
          ]
        }
      ],
      "source": [
        "transform = transforms.Compose(\n",
        "    [transforms.ToTensor(),\n",
        "     transforms.Normalize((0.5, 0.5, 0.5), (0.5, 0.5, 0.5))])\n",
        "\n",
        "trainset = torchvision.datasets.CIFAR10(root='./data', train=True,\n",
        "                                        download=True, transform=transform)\n",
        "trainset, valset = torch.utils.data.random_split(trainset, [40000, 10000])\n",
        "testset = torchvision.datasets.CIFAR10(root='./data', train=False,\n",
        "                                       download=True, transform=transform)\n",
        "partition = {'train': trainset, 'val':valset, 'test':testset}"
      ]
    },
    {
      "cell_type": "markdown",
      "metadata": {
        "id": "RxnfFJwBcsAv"
      },
      "source": [
        "## Model Architecture"
      ]
    },
    {
      "cell_type": "code",
      "execution_count": 3,
      "metadata": {
        "id": "_G6bZbbkMWWt"
      },
      "outputs": [],
      "source": [
        "class MLP(nn.Module):\n",
        "    def __init__(self, in_dim, out_dim, hid_dim, n_layer, act, dropout, use_bn, use_xavier):\n",
        "        super(MLP, self).__init__()\n",
        "        self.in_dim = in_dim\n",
        "        self.out_dim = out_dim\n",
        "        self.hid_dim = hid_dim\n",
        "        self.n_layer = n_layer\n",
        "        self.act = act\n",
        "        self.dropout = dropout # float\n",
        "        self.use_bn = use_bn # boolean\n",
        "        self.use_xavier = use_xavier\n",
        "        \n",
        "        # ====== Create Linear Layers ====== #\n",
        "        self.fc1 = nn.Linear(self.in_dim, self.hid_dim)\n",
        "        \n",
        "        self.linears = nn.ModuleList()\n",
        "        self.bns = nn.ModuleList()\n",
        "        for i in range(self.n_layer-1):\n",
        "            self.linears.append(nn.Linear(self.hid_dim, self.hid_dim))\n",
        "            if self.use_bn: # 배치정규화 쓰는경우에는 n_layer 수 (마지막 출력층 제외) 만큼 추가해준다\n",
        "                self.bns.append(nn.BatchNorm1d(self.hid_dim))\n",
        "                \n",
        "        self.fc2 = nn.Linear(self.hid_dim, self.out_dim)\n",
        "        \n",
        "        # ====== Create Activation Function ====== #\n",
        "        if self.act == 'relu':\n",
        "            self.act = nn.ReLU()\n",
        "        elif self.act == 'tanh':\n",
        "            self.act == nn.Tanh()\n",
        "        elif self.act == 'sigmoid':\n",
        "            self.act = nn.Sigmoid()\n",
        "        else:\n",
        "            raise ValueError('no valid activation function selected!')\n",
        "        \n",
        "        # ====== Create Regularization Layer ======= #\n",
        "        self.dropout = nn.Dropout(self.dropout)\n",
        "        if self.use_xavier:\n",
        "            self.xavier_init()\n",
        "          \n",
        "    def forward(self, x):\n",
        "        x = self.act(self.fc1(x))\n",
        "        for i in range(len(self.linears)):\n",
        "            # 순서 : 층 => 활성화 => gn => dropout\n",
        "            x = self.act(self.linears[i](x))\n",
        "            x = self.bns[i](x) # layer마다 평균과 편차가 다르므로 각각 다르게 사용해줘야함\n",
        "            x = self.dropout(x) # dropout : 처음과 마지막 layer에선 사용금지! 중간만 사용가능\n",
        "        x = self.fc2(x)\n",
        "        return x\n",
        "    \n",
        "    def xavier_init(self):\n",
        "        for linear in self.linears:\n",
        "            nn.init.xavier_normal_(linear.weight)\n",
        "            linear.bias.data.fill_(0.01)\n",
        "            \n",
        "model = MLP(3072, 10, 100, 4, 'relu', 0.1, True, True) # Testing Model Construction"
      ]
    },
    {
      "cell_type": "markdown",
      "metadata": {
        "id": "itGsp6jDWs_a"
      },
      "source": [
        "## Train, Validate, Test and Experiment\n",
        "- experiment 부분을 train, val, test로 나눔으로써 더 구조적이게 코드작성!"
      ]
    },
    {
      "cell_type": "code",
      "execution_count": 4,
      "metadata": {
        "id": "9LanYbZyI_Xf"
      },
      "outputs": [],
      "source": [
        "# 인자 : 모델, 데이터셋, 옵티마이저, 목적함수 => 출력 : 학습된 모델..\n",
        "def train(model, partition, optimizer, loss_fn, args):\n",
        "    trainloader = torch.utils.data.DataLoader(partition['train'], \n",
        "                                              batch_size=args.train_batch_size, \n",
        "                                              shuffle=True,\n",
        "                                              num_workers=2)\n",
        "    model.train()\n",
        "\n",
        "    correct = 0\n",
        "    total = 0\n",
        "    train_loss = 0.0\n",
        "    for i, data in enumerate(trainloader, 0):\n",
        "        optimizer.zero_grad() # [21.01.05 오류 수정] 매 Epoch 마다 .zero_grad()가 실행되는 것을 매 iteration 마다 실행되도록 수정했습니다. \n",
        "\n",
        "        # get the inputs\n",
        "        inputs, labels = data\n",
        "        inputs = inputs.view(-1, 3072)\n",
        "        inputs = inputs.cuda()\n",
        "        labels = labels.cuda()\n",
        "        outputs = model(inputs)\n",
        "\n",
        "        loss = loss_fn(outputs, labels)\n",
        "        loss.backward()\n",
        "        optimizer.step()\n",
        "\n",
        "        train_loss += loss.item()\n",
        "        _, predicted = torch.max(outputs.data, 1)\n",
        "        total += labels.size(0)\n",
        "        correct += (predicted == labels).sum().item()\n",
        "\n",
        "    train_loss = train_loss / len(trainloader)\n",
        "    train_acc = 100 * correct / total\n",
        "    return model, train_loss, train_acc"
      ]
    },
    {
      "cell_type": "markdown",
      "metadata": {
        "id": "HGmG92zYSNsx"
      },
      "source": [
        "> train 함수에서는 return model 중요! 자칫 잘못하면 학습 실컷시키고 (return model 미포함하면) 쌩 model 사용하게 될 수 있음"
      ]
    },
    {
      "cell_type": "code",
      "execution_count": 5,
      "metadata": {
        "id": "YpzcDpyYI_Xh"
      },
      "outputs": [],
      "source": [
        "# 인자 : 모델, 데이터셋, 옵티마이저(X : 학습을 안하니까), 목적함수\n",
        "def validate(model, partition, loss_fn, args):\n",
        "    valloader = torch.utils.data.DataLoader(partition['val'], \n",
        "                                            batch_size=args.test_batch_size, \n",
        "                                            shuffle=False,\n",
        "                                            num_workers=2)\n",
        "    model.eval()\n",
        "\n",
        "    correct = 0\n",
        "    total = 0\n",
        "    val_loss = 0 \n",
        "    with torch.no_grad():\n",
        "        for data in valloader:\n",
        "            images, labels = data\n",
        "            images = images.view(-1, 3072)\n",
        "            images = images.cuda()\n",
        "            labels = labels.cuda()\n",
        "            outputs = model(images)\n",
        "\n",
        "            loss = loss_fn(outputs, labels)\n",
        "            \n",
        "            val_loss += loss.item()\n",
        "            _, predicted = torch.max(outputs.data, 1)\n",
        "            total += labels.size(0)\n",
        "            correct += (predicted == labels).sum().item()\n",
        "\n",
        "        val_loss = val_loss / len(valloader)\n",
        "        val_acc = 100 * correct / total\n",
        "    return val_loss, val_acc"
      ]
    },
    {
      "cell_type": "code",
      "execution_count": 6,
      "metadata": {
        "id": "TGeTAQn6I_Xj"
      },
      "outputs": [],
      "source": [
        "# 인자 : 모델, 데이터셋, 옵티마이저(X), 목적함수(X) => 걍 숫자만 산출하는거니까\n",
        "def test(model, partition, args):\n",
        "    testloader = torch.utils.data.DataLoader(partition['test'], \n",
        "                                             batch_size=args.test_batch_size, \n",
        "                                             shuffle=False,\n",
        "                                             num_workers=2)\n",
        "    model.eval()\n",
        "    \n",
        "    correct = 0\n",
        "    total = 0\n",
        "    with torch.no_grad():\n",
        "        for data in testloader:\n",
        "            images, labels = data\n",
        "            images = images.view(-1, 3072)\n",
        "            images = images.cuda()\n",
        "            labels = labels.cuda()\n",
        "\n",
        "            outputs = model(images)\n",
        "            _, predicted = torch.max(outputs.data, 1)\n",
        "            total += labels.size(0)\n",
        "            correct += (predicted == labels).sum().item()\n",
        "\n",
        "        test_acc = 100 * correct / total\n",
        "    return test_acc"
      ]
    },
    {
      "cell_type": "code",
      "execution_count": 7,
      "metadata": {
        "id": "LiOCP6TqWw2V"
      },
      "outputs": [],
      "source": [
        "def experiment(partition, args):\n",
        "  \n",
        "    model = MLP(args.in_dim, args.out_dim, args.hid_dim, args.n_layer, args.act, args.dropout, args.use_bn, args.use_xavier)\n",
        "    model.cuda()\n",
        "\n",
        "    loss_fn = nn.CrossEntropyLoss()\n",
        "    if args.optim == 'SGD':\n",
        "        optimizer = optim.RMSprop(model.parameters(), lr=args.lr, weight_decay=args.l2)\n",
        "    elif args.optim == 'RMSprop':\n",
        "        optimizer = optim.RMSprop(model.parameters(), lr=args.lr, weight_decay=args.l2)\n",
        "    elif args.optim == 'Adam':\n",
        "        optimizer = optim.Adam(model.parameters(), lr=args.lr, weight_decay=args.l2)\n",
        "    else:\n",
        "        raise ValueError('In-valid optimizer choice')\n",
        "    \n",
        "    for epoch in range(args.epoch):  # loop over the dataset multiple times\n",
        "        ts = time.time()\n",
        "        model, train_loss, train_acc = train(model, partition, optimizer, loss_fn, args)\n",
        "        val_loss, val_acc = validate(model, partition, loss_fn, args)\n",
        "        te = time.time()\n",
        "        print('Epoch {}, Acc(train/val): {:2.2f}/{:2.2f}, Loss(train/val) {:2.2f}/{:2.2f}. Took {:2.2f} sec'.format(epoch, train_acc, val_acc, train_loss, val_loss, te-ts))\n",
        "        \n",
        "    test_acc = test(model, partition, args)    \n",
        "    return train_loss, val_loss, train_acc, val_acc, test_acc"
      ]
    },
    {
      "cell_type": "markdown",
      "metadata": {
        "id": "omgExzmQgU1J"
      },
      "source": [
        "## Experiment\n",
        "- colab gpu 속도 이점 얻기위해서 배치사이즈 좀 크게해야 할 필요가 있음\n",
        "- 128~512사이정도로"
      ]
    },
    {
      "cell_type": "code",
      "execution_count": 8,
      "metadata": {
        "colab": {
          "base_uri": "https://localhost:8080/"
        },
        "id": "DRoOy_B3Wu7B",
        "outputId": "70a11631-35b4-4971-a7db-742165b2f390"
      },
      "outputs": [
        {
          "name": "stdout",
          "output_type": "stream",
          "text": [
            "Namespace(act='relu', dropout=0.2, epoch=10, hid_dim=500, in_dim=3072, l2=1e-05, lr=0.0015, n_layer=3, optim='RMSprop', out_dim=10, test_batch_size=1024, train_batch_size=256, use_bn=True, use_xavier=True)\n",
            "Epoch 0, Acc(train/val): 35.49/38.25, Loss(train/val) 1.85/1.76. Took 12.53 sec\n",
            "Epoch 1, Acc(train/val): 45.04/39.72, Loss(train/val) 1.54/1.71. Took 9.62 sec\n",
            "Epoch 2, Acc(train/val): 49.41/45.21, Loss(train/val) 1.41/1.56. Took 9.51 sec\n",
            "Epoch 3, Acc(train/val): 52.08/40.97, Loss(train/val) 1.34/1.72. Took 9.47 sec\n",
            "Epoch 4, Acc(train/val): 55.19/44.75, Loss(train/val) 1.26/1.60. Took 9.43 sec\n",
            "Epoch 5, Acc(train/val): 57.42/45.29, Loss(train/val) 1.19/2.44. Took 9.42 sec\n",
            "Epoch 6, Acc(train/val): 59.71/48.89, Loss(train/val) 1.13/1.49. Took 9.43 sec\n",
            "Epoch 7, Acc(train/val): 62.01/48.82, Loss(train/val) 1.07/1.51. Took 9.52 sec\n",
            "Epoch 8, Acc(train/val): 63.83/51.79, Loss(train/val) 1.01/1.43. Took 9.61 sec\n",
            "Epoch 9, Acc(train/val): 65.83/50.73, Loss(train/val) 0.96/1.51. Took 9.62 sec\n",
            "Namespace(act='relu', dropout=0.2, epoch=10, hid_dim=300, in_dim=3072, l2=1e-05, lr=0.0015, n_layer=3, optim='RMSprop', out_dim=10, test_batch_size=1024, train_batch_size=256, use_bn=True, use_xavier=True)\n",
            "Epoch 0, Acc(train/val): 36.88/37.04, Loss(train/val) 1.77/1.77. Took 9.58 sec\n",
            "Epoch 1, Acc(train/val): 45.80/42.51, Loss(train/val) 1.52/1.58. Took 9.62 sec\n",
            "Epoch 2, Acc(train/val): 49.82/46.50, Loss(train/val) 1.41/1.47. Took 10.65 sec\n",
            "Epoch 3, Acc(train/val): 52.33/45.92, Loss(train/val) 1.33/1.53. Took 9.66 sec\n",
            "Epoch 4, Acc(train/val): 55.15/48.47, Loss(train/val) 1.26/1.45. Took 9.77 sec\n",
            "Epoch 5, Acc(train/val): 56.95/48.54, Loss(train/val) 1.20/1.50. Took 9.65 sec\n",
            "Epoch 6, Acc(train/val): 59.16/47.31, Loss(train/val) 1.14/1.59. Took 9.79 sec\n",
            "Epoch 7, Acc(train/val): 61.04/45.15, Loss(train/val) 1.10/1.65. Took 9.56 sec\n",
            "Epoch 8, Acc(train/val): 62.36/51.18, Loss(train/val) 1.05/1.43. Took 9.54 sec\n",
            "Epoch 9, Acc(train/val): 64.12/48.50, Loss(train/val) 0.99/1.61. Took 9.70 sec\n",
            "Namespace(act='relu', dropout=0.2, epoch=10, hid_dim=700, in_dim=3072, l2=1e-05, lr=0.0015, n_layer=3, optim='RMSprop', out_dim=10, test_batch_size=1024, train_batch_size=256, use_bn=True, use_xavier=True)\n",
            "Epoch 0, Acc(train/val): 33.55/34.65, Loss(train/val) 1.94/1.96. Took 9.67 sec\n",
            "Epoch 1, Acc(train/val): 44.45/33.16, Loss(train/val) 1.56/2.14. Took 9.70 sec\n",
            "Epoch 2, Acc(train/val): 49.10/39.92, Loss(train/val) 1.43/1.70. Took 9.65 sec\n",
            "Epoch 3, Acc(train/val): 52.15/46.89, Loss(train/val) 1.33/1.49. Took 9.59 sec\n",
            "Epoch 4, Acc(train/val): 54.93/40.63, Loss(train/val) 1.26/1.88. Took 9.62 sec\n",
            "Epoch 5, Acc(train/val): 56.94/48.60, Loss(train/val) 1.20/1.50. Took 9.71 sec\n",
            "Epoch 6, Acc(train/val): 59.79/45.91, Loss(train/val) 1.12/1.64. Took 9.70 sec\n",
            "Epoch 7, Acc(train/val): 62.14/52.38, Loss(train/val) 1.06/1.42. Took 9.85 sec\n",
            "Epoch 8, Acc(train/val): 64.29/46.73, Loss(train/val) 1.00/1.72. Took 10.24 sec\n",
            "Epoch 9, Acc(train/val): 65.82/46.24, Loss(train/val) 0.95/1.71. Took 9.64 sec\n",
            "Namespace(act='relu', dropout=0.2, epoch=10, hid_dim=500, in_dim=3072, l2=1e-05, lr=0.0015, n_layer=3, optim='RMSprop', out_dim=10, test_batch_size=1024, train_batch_size=256, use_bn=True, use_xavier=True)\n",
            "Epoch 0, Acc(train/val): 35.83/37.32, Loss(train/val) 1.84/1.73. Took 9.57 sec\n",
            "Epoch 1, Acc(train/val): 45.38/43.20, Loss(train/val) 1.52/1.58. Took 9.74 sec\n",
            "Epoch 2, Acc(train/val): 49.78/38.66, Loss(train/val) 1.40/1.86. Took 9.75 sec\n",
            "Epoch 3, Acc(train/val): 52.21/45.21, Loss(train/val) 1.32/1.59. Took 9.58 sec\n",
            "Epoch 4, Acc(train/val): 55.37/46.33, Loss(train/val) 1.25/1.52. Took 9.68 sec\n",
            "Epoch 5, Acc(train/val): 57.59/48.51, Loss(train/val) 1.19/1.49. Took 9.64 sec\n",
            "Epoch 6, Acc(train/val): 60.05/49.58, Loss(train/val) 1.12/1.48. Took 9.56 sec\n",
            "Epoch 7, Acc(train/val): 62.15/48.13, Loss(train/val) 1.06/1.64. Took 9.53 sec\n",
            "Epoch 8, Acc(train/val): 64.61/50.72, Loss(train/val) 1.00/1.48. Took 9.51 sec\n",
            "Epoch 9, Acc(train/val): 65.92/46.58, Loss(train/val) 0.95/1.68. Took 9.48 sec\n",
            "Namespace(act='relu', dropout=0.2, epoch=10, hid_dim=300, in_dim=3072, l2=1e-05, lr=0.0015, n_layer=3, optim='RMSprop', out_dim=10, test_batch_size=1024, train_batch_size=256, use_bn=True, use_xavier=True)\n",
            "Epoch 0, Acc(train/val): 37.38/39.39, Loss(train/val) 1.75/1.73. Took 9.52 sec\n",
            "Epoch 1, Acc(train/val): 46.31/40.32, Loss(train/val) 1.50/1.70. Took 9.68 sec\n",
            "Epoch 2, Acc(train/val): 50.23/44.56, Loss(train/val) 1.39/1.55. Took 9.56 sec\n",
            "Epoch 3, Acc(train/val): 52.99/42.62, Loss(train/val) 1.32/1.63. Took 10.55 sec\n",
            "Epoch 4, Acc(train/val): 55.32/46.47, Loss(train/val) 1.25/1.49. Took 9.65 sec\n",
            "Epoch 5, Acc(train/val): 57.77/45.99, Loss(train/val) 1.18/1.56. Took 9.53 sec\n",
            "Epoch 6, Acc(train/val): 59.87/49.41, Loss(train/val) 1.13/1.49. Took 9.59 sec\n",
            "Epoch 7, Acc(train/val): 61.77/49.32, Loss(train/val) 1.07/1.46. Took 9.44 sec\n",
            "Epoch 8, Acc(train/val): 63.45/48.46, Loss(train/val) 1.02/1.53. Took 9.56 sec\n",
            "Epoch 9, Acc(train/val): 65.10/49.69, Loss(train/val) 0.97/1.59. Took 9.65 sec\n",
            "Namespace(act='relu', dropout=0.2, epoch=10, hid_dim=700, in_dim=3072, l2=1e-05, lr=0.0015, n_layer=3, optim='RMSprop', out_dim=10, test_batch_size=1024, train_batch_size=256, use_bn=True, use_xavier=True)\n",
            "Epoch 0, Acc(train/val): 34.99/37.19, Loss(train/val) 1.90/1.85. Took 9.63 sec\n",
            "Epoch 1, Acc(train/val): 44.16/39.04, Loss(train/val) 1.56/1.75. Took 9.67 sec\n",
            "Epoch 2, Acc(train/val): 48.83/41.48, Loss(train/val) 1.43/1.67. Took 9.65 sec\n",
            "Epoch 3, Acc(train/val): 51.13/46.15, Loss(train/val) 1.37/1.53. Took 9.48 sec\n",
            "Epoch 4, Acc(train/val): 54.23/40.88, Loss(train/val) 1.28/1.82. Took 9.51 sec\n",
            "Epoch 5, Acc(train/val): 56.53/48.66, Loss(train/val) 1.21/1.48. Took 9.48 sec\n",
            "Epoch 6, Acc(train/val): 58.70/49.90, Loss(train/val) 1.15/1.52. Took 9.59 sec\n",
            "Epoch 7, Acc(train/val): 61.39/43.97, Loss(train/val) 1.08/1.78. Took 9.61 sec\n",
            "Epoch 8, Acc(train/val): 63.40/45.72, Loss(train/val) 1.02/1.64. Took 10.72 sec\n",
            "Epoch 9, Acc(train/val): 65.61/42.97, Loss(train/val) 0.96/1.81. Took 9.64 sec\n",
            "Namespace(act='relu', dropout=0.2, epoch=10, hid_dim=500, in_dim=3072, l2=1e-05, lr=0.0015, n_layer=4, optim='RMSprop', out_dim=10, test_batch_size=1024, train_batch_size=256, use_bn=True, use_xavier=True)\n",
            "Epoch 0, Acc(train/val): 34.21/35.57, Loss(train/val) 1.87/1.80. Took 9.52 sec\n",
            "Epoch 1, Acc(train/val): 44.22/41.81, Loss(train/val) 1.56/1.66. Took 9.67 sec\n",
            "Epoch 2, Acc(train/val): 48.78/45.14, Loss(train/val) 1.43/1.52. Took 9.66 sec\n",
            "Epoch 3, Acc(train/val): 51.97/42.94, Loss(train/val) 1.34/1.62. Took 9.67 sec\n",
            "Epoch 4, Acc(train/val): 54.70/42.55, Loss(train/val) 1.27/1.67. Took 9.48 sec\n",
            "Epoch 5, Acc(train/val): 56.66/46.98, Loss(train/val) 1.21/1.58. Took 9.62 sec\n",
            "Epoch 6, Acc(train/val): 59.18/45.69, Loss(train/val) 1.14/1.64. Took 9.63 sec\n",
            "Epoch 7, Acc(train/val): 60.67/45.02, Loss(train/val) 1.10/1.63. Took 9.67 sec\n",
            "Epoch 8, Acc(train/val): 62.99/43.82, Loss(train/val) 1.04/2.00. Took 9.84 sec\n",
            "Epoch 9, Acc(train/val): 64.48/50.06, Loss(train/val) 0.99/1.50. Took 9.66 sec\n",
            "Namespace(act='relu', dropout=0.2, epoch=10, hid_dim=300, in_dim=3072, l2=1e-05, lr=0.0015, n_layer=4, optim='RMSprop', out_dim=10, test_batch_size=1024, train_batch_size=256, use_bn=True, use_xavier=True)\n",
            "Epoch 0, Acc(train/val): 35.90/40.13, Loss(train/val) 1.79/1.65. Took 9.59 sec\n",
            "Epoch 1, Acc(train/val): 45.10/43.68, Loss(train/val) 1.53/1.58. Took 9.83 sec\n",
            "Epoch 2, Acc(train/val): 49.09/44.27, Loss(train/val) 1.43/1.55. Took 9.86 sec\n",
            "Epoch 3, Acc(train/val): 51.76/46.91, Loss(train/val) 1.35/1.52. Took 10.85 sec\n",
            "Epoch 4, Acc(train/val): 54.16/48.28, Loss(train/val) 1.29/1.47. Took 9.83 sec\n",
            "Epoch 5, Acc(train/val): 56.20/47.11, Loss(train/val) 1.23/1.52. Took 9.71 sec\n",
            "Epoch 6, Acc(train/val): 57.86/50.47, Loss(train/val) 1.18/1.41. Took 9.87 sec\n",
            "Epoch 7, Acc(train/val): 59.70/48.22, Loss(train/val) 1.13/1.51. Took 9.83 sec\n",
            "Epoch 8, Acc(train/val): 61.70/49.53, Loss(train/val) 1.08/1.46. Took 9.92 sec\n",
            "Epoch 9, Acc(train/val): 63.20/47.84, Loss(train/val) 1.03/1.64. Took 10.07 sec\n",
            "Namespace(act='relu', dropout=0.2, epoch=10, hid_dim=700, in_dim=3072, l2=1e-05, lr=0.0015, n_layer=4, optim='RMSprop', out_dim=10, test_batch_size=1024, train_batch_size=256, use_bn=True, use_xavier=True)\n",
            "Epoch 0, Acc(train/val): 33.18/33.22, Loss(train/val) 1.94/2.07. Took 10.18 sec\n",
            "Epoch 1, Acc(train/val): 42.81/36.56, Loss(train/val) 1.59/1.82. Took 10.34 sec\n",
            "Epoch 2, Acc(train/val): 47.91/40.81, Loss(train/val) 1.46/1.73. Took 10.28 sec\n",
            "Epoch 3, Acc(train/val): 50.61/41.37, Loss(train/val) 1.37/1.74. Took 10.37 sec\n",
            "Epoch 4, Acc(train/val): 53.40/45.12, Loss(train/val) 1.30/1.65. Took 10.39 sec\n",
            "Epoch 5, Acc(train/val): 56.03/46.21, Loss(train/val) 1.23/1.62. Took 10.20 sec\n",
            "Epoch 6, Acc(train/val): 58.12/48.50, Loss(train/val) 1.17/1.51. Took 10.29 sec\n",
            "Epoch 7, Acc(train/val): 60.55/44.92, Loss(train/val) 1.10/1.70. Took 10.07 sec\n",
            "Epoch 8, Acc(train/val): 62.26/48.54, Loss(train/val) 1.05/1.54. Took 10.84 sec\n",
            "Epoch 9, Acc(train/val): 64.47/47.83, Loss(train/val) 0.99/1.66. Took 10.37 sec\n"
          ]
        }
      ],
      "source": [
        "# ====== Random Seed Initialization ====== #\n",
        "seed = 123\n",
        "np.random.seed(seed)\n",
        "torch.manual_seed(seed)\n",
        "\n",
        "parser = argparse.ArgumentParser()\n",
        "args = parser.parse_args(\"\")\n",
        "\n",
        "# ====== Model Capacity ====== #\n",
        "args.in_dim = 3072\n",
        "args.out_dim = 10\n",
        "args.hid_dim = 100\n",
        "args.act = 'relu'\n",
        "\n",
        "# ====== Regularization ======= #\n",
        "args.dropout = 0.2\n",
        "args.use_bn = True\n",
        "args.l2 = 0.00001\n",
        "args.use_xavier = True\n",
        "\n",
        "# ====== Optimizer & Training ====== #\n",
        "args.optim = 'RMSprop' #'RMSprop' #SGD, RMSprop, ADAM...\n",
        "args.lr = 0.0015\n",
        "args.epoch = 10\n",
        "\n",
        "args.train_batch_size = 256\n",
        "args.test_batch_size = 1024\n",
        "\n",
        "# ====== Experiment Variable ====== #\n",
        "name_var1 = 'n_layer'\n",
        "name_var2 = 'hid_dim'\n",
        "list_var1 = [3, 3, 4]\n",
        "list_var2 = [500, 300, 700]\n",
        "\n",
        "\n",
        "for var1 in list_var1:\n",
        "    for var2 in list_var2:\n",
        "        setattr(args, name_var1, var1)\n",
        "        setattr(args, name_var2, var2)\n",
        "        print(args)\n",
        "        result = experiment(partition, args)  "
      ]
    }
  ],
  "metadata": {
    "accelerator": "GPU",
    "colab": {
      "provenance": []
    },
    "gpuClass": "standard",
    "kernelspec": {
      "display_name": "Python 3.8.13 ('kotorch')",
      "language": "python",
      "name": "python3"
    },
    "language_info": {
      "codemirror_mode": {
        "name": "ipython",
        "version": 3
      },
      "file_extension": ".py",
      "mimetype": "text/x-python",
      "name": "python",
      "nbconvert_exporter": "python",
      "pygments_lexer": "ipython3",
      "version": "3.8.13"
    },
    "vscode": {
      "interpreter": {
        "hash": "e394b0e5950b2ed9ac02d3d0f43da50df004fa03f183c9ffe2862d4a06a95d21"
      }
    },
    "widgets": {
      "application/vnd.jupyter.widget-state+json": {
        "05f8620091b446c98be60d4509fa804a": {
          "model_module": "@jupyter-widgets/controls",
          "model_module_version": "1.5.0",
          "model_name": "DescriptionStyleModel",
          "state": {
            "_model_module": "@jupyter-widgets/controls",
            "_model_module_version": "1.5.0",
            "_model_name": "DescriptionStyleModel",
            "_view_count": null,
            "_view_module": "@jupyter-widgets/base",
            "_view_module_version": "1.2.0",
            "_view_name": "StyleView",
            "description_width": ""
          }
        },
        "1e311bc20ad7441ca7e433f964880a2f": {
          "model_module": "@jupyter-widgets/controls",
          "model_module_version": "1.5.0",
          "model_name": "FloatProgressModel",
          "state": {
            "_dom_classes": [],
            "_model_module": "@jupyter-widgets/controls",
            "_model_module_version": "1.5.0",
            "_model_name": "FloatProgressModel",
            "_view_count": null,
            "_view_module": "@jupyter-widgets/controls",
            "_view_module_version": "1.5.0",
            "_view_name": "ProgressView",
            "bar_style": "success",
            "description": "",
            "description_tooltip": null,
            "layout": "IPY_MODEL_c976512826af428bbf250e5f074262bf",
            "max": 170498071,
            "min": 0,
            "orientation": "horizontal",
            "style": "IPY_MODEL_22524e297b8442258a2fe58f0cb520d7",
            "value": 170498071
          }
        },
        "22524e297b8442258a2fe58f0cb520d7": {
          "model_module": "@jupyter-widgets/controls",
          "model_module_version": "1.5.0",
          "model_name": "ProgressStyleModel",
          "state": {
            "_model_module": "@jupyter-widgets/controls",
            "_model_module_version": "1.5.0",
            "_model_name": "ProgressStyleModel",
            "_view_count": null,
            "_view_module": "@jupyter-widgets/base",
            "_view_module_version": "1.2.0",
            "_view_name": "StyleView",
            "bar_color": null,
            "description_width": ""
          }
        },
        "2945eaf912024667998114468c850fa0": {
          "model_module": "@jupyter-widgets/controls",
          "model_module_version": "1.5.0",
          "model_name": "HTMLModel",
          "state": {
            "_dom_classes": [],
            "_model_module": "@jupyter-widgets/controls",
            "_model_module_version": "1.5.0",
            "_model_name": "HTMLModel",
            "_view_count": null,
            "_view_module": "@jupyter-widgets/controls",
            "_view_module_version": "1.5.0",
            "_view_name": "HTMLView",
            "description": "",
            "description_tooltip": null,
            "layout": "IPY_MODEL_a09a8bb98c2e4e068f8ee9c690a787c1",
            "placeholder": "​",
            "style": "IPY_MODEL_ad9521dbc6754982b22b1742a04a5e22",
            "value": " 170498071/170498071 [00:02&lt;00:00, 86536775.88it/s]"
          }
        },
        "7bd6b00095a34816874dc3f71e16ddc5": {
          "model_module": "@jupyter-widgets/controls",
          "model_module_version": "1.5.0",
          "model_name": "HTMLModel",
          "state": {
            "_dom_classes": [],
            "_model_module": "@jupyter-widgets/controls",
            "_model_module_version": "1.5.0",
            "_model_name": "HTMLModel",
            "_view_count": null,
            "_view_module": "@jupyter-widgets/controls",
            "_view_module_version": "1.5.0",
            "_view_name": "HTMLView",
            "description": "",
            "description_tooltip": null,
            "layout": "IPY_MODEL_d8584427142f4f8bad0cf4f163bda797",
            "placeholder": "​",
            "style": "IPY_MODEL_05f8620091b446c98be60d4509fa804a",
            "value": "100%"
          }
        },
        "97353263933b4d64a9626929147f6487": {
          "model_module": "@jupyter-widgets/controls",
          "model_module_version": "1.5.0",
          "model_name": "HBoxModel",
          "state": {
            "_dom_classes": [],
            "_model_module": "@jupyter-widgets/controls",
            "_model_module_version": "1.5.0",
            "_model_name": "HBoxModel",
            "_view_count": null,
            "_view_module": "@jupyter-widgets/controls",
            "_view_module_version": "1.5.0",
            "_view_name": "HBoxView",
            "box_style": "",
            "children": [
              "IPY_MODEL_7bd6b00095a34816874dc3f71e16ddc5",
              "IPY_MODEL_1e311bc20ad7441ca7e433f964880a2f",
              "IPY_MODEL_2945eaf912024667998114468c850fa0"
            ],
            "layout": "IPY_MODEL_cd4c786562c94bb89b4da6a85a9b78c1"
          }
        },
        "a09a8bb98c2e4e068f8ee9c690a787c1": {
          "model_module": "@jupyter-widgets/base",
          "model_module_version": "1.2.0",
          "model_name": "LayoutModel",
          "state": {
            "_model_module": "@jupyter-widgets/base",
            "_model_module_version": "1.2.0",
            "_model_name": "LayoutModel",
            "_view_count": null,
            "_view_module": "@jupyter-widgets/base",
            "_view_module_version": "1.2.0",
            "_view_name": "LayoutView",
            "align_content": null,
            "align_items": null,
            "align_self": null,
            "border": null,
            "bottom": null,
            "display": null,
            "flex": null,
            "flex_flow": null,
            "grid_area": null,
            "grid_auto_columns": null,
            "grid_auto_flow": null,
            "grid_auto_rows": null,
            "grid_column": null,
            "grid_gap": null,
            "grid_row": null,
            "grid_template_areas": null,
            "grid_template_columns": null,
            "grid_template_rows": null,
            "height": null,
            "justify_content": null,
            "justify_items": null,
            "left": null,
            "margin": null,
            "max_height": null,
            "max_width": null,
            "min_height": null,
            "min_width": null,
            "object_fit": null,
            "object_position": null,
            "order": null,
            "overflow": null,
            "overflow_x": null,
            "overflow_y": null,
            "padding": null,
            "right": null,
            "top": null,
            "visibility": null,
            "width": null
          }
        },
        "ad9521dbc6754982b22b1742a04a5e22": {
          "model_module": "@jupyter-widgets/controls",
          "model_module_version": "1.5.0",
          "model_name": "DescriptionStyleModel",
          "state": {
            "_model_module": "@jupyter-widgets/controls",
            "_model_module_version": "1.5.0",
            "_model_name": "DescriptionStyleModel",
            "_view_count": null,
            "_view_module": "@jupyter-widgets/base",
            "_view_module_version": "1.2.0",
            "_view_name": "StyleView",
            "description_width": ""
          }
        },
        "c976512826af428bbf250e5f074262bf": {
          "model_module": "@jupyter-widgets/base",
          "model_module_version": "1.2.0",
          "model_name": "LayoutModel",
          "state": {
            "_model_module": "@jupyter-widgets/base",
            "_model_module_version": "1.2.0",
            "_model_name": "LayoutModel",
            "_view_count": null,
            "_view_module": "@jupyter-widgets/base",
            "_view_module_version": "1.2.0",
            "_view_name": "LayoutView",
            "align_content": null,
            "align_items": null,
            "align_self": null,
            "border": null,
            "bottom": null,
            "display": null,
            "flex": null,
            "flex_flow": null,
            "grid_area": null,
            "grid_auto_columns": null,
            "grid_auto_flow": null,
            "grid_auto_rows": null,
            "grid_column": null,
            "grid_gap": null,
            "grid_row": null,
            "grid_template_areas": null,
            "grid_template_columns": null,
            "grid_template_rows": null,
            "height": null,
            "justify_content": null,
            "justify_items": null,
            "left": null,
            "margin": null,
            "max_height": null,
            "max_width": null,
            "min_height": null,
            "min_width": null,
            "object_fit": null,
            "object_position": null,
            "order": null,
            "overflow": null,
            "overflow_x": null,
            "overflow_y": null,
            "padding": null,
            "right": null,
            "top": null,
            "visibility": null,
            "width": null
          }
        },
        "cd4c786562c94bb89b4da6a85a9b78c1": {
          "model_module": "@jupyter-widgets/base",
          "model_module_version": "1.2.0",
          "model_name": "LayoutModel",
          "state": {
            "_model_module": "@jupyter-widgets/base",
            "_model_module_version": "1.2.0",
            "_model_name": "LayoutModel",
            "_view_count": null,
            "_view_module": "@jupyter-widgets/base",
            "_view_module_version": "1.2.0",
            "_view_name": "LayoutView",
            "align_content": null,
            "align_items": null,
            "align_self": null,
            "border": null,
            "bottom": null,
            "display": null,
            "flex": null,
            "flex_flow": null,
            "grid_area": null,
            "grid_auto_columns": null,
            "grid_auto_flow": null,
            "grid_auto_rows": null,
            "grid_column": null,
            "grid_gap": null,
            "grid_row": null,
            "grid_template_areas": null,
            "grid_template_columns": null,
            "grid_template_rows": null,
            "height": null,
            "justify_content": null,
            "justify_items": null,
            "left": null,
            "margin": null,
            "max_height": null,
            "max_width": null,
            "min_height": null,
            "min_width": null,
            "object_fit": null,
            "object_position": null,
            "order": null,
            "overflow": null,
            "overflow_x": null,
            "overflow_y": null,
            "padding": null,
            "right": null,
            "top": null,
            "visibility": null,
            "width": null
          }
        },
        "d8584427142f4f8bad0cf4f163bda797": {
          "model_module": "@jupyter-widgets/base",
          "model_module_version": "1.2.0",
          "model_name": "LayoutModel",
          "state": {
            "_model_module": "@jupyter-widgets/base",
            "_model_module_version": "1.2.0",
            "_model_name": "LayoutModel",
            "_view_count": null,
            "_view_module": "@jupyter-widgets/base",
            "_view_module_version": "1.2.0",
            "_view_name": "LayoutView",
            "align_content": null,
            "align_items": null,
            "align_self": null,
            "border": null,
            "bottom": null,
            "display": null,
            "flex": null,
            "flex_flow": null,
            "grid_area": null,
            "grid_auto_columns": null,
            "grid_auto_flow": null,
            "grid_auto_rows": null,
            "grid_column": null,
            "grid_gap": null,
            "grid_row": null,
            "grid_template_areas": null,
            "grid_template_columns": null,
            "grid_template_rows": null,
            "height": null,
            "justify_content": null,
            "justify_items": null,
            "left": null,
            "margin": null,
            "max_height": null,
            "max_width": null,
            "min_height": null,
            "min_width": null,
            "object_fit": null,
            "object_position": null,
            "order": null,
            "overflow": null,
            "overflow_x": null,
            "overflow_y": null,
            "padding": null,
            "right": null,
            "top": null,
            "visibility": null,
            "width": null
          }
        }
      }
    }
  },
  "nbformat": 4,
  "nbformat_minor": 0
}
