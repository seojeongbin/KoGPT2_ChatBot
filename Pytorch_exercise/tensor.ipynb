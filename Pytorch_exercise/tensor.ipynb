{
 "cells": [
  {
   "cell_type": "markdown",
   "metadata": {},
   "source": [
    "pytorch의 가장 핵심적인 개념 tensor\n",
    "- n차원의 matrix임. pytorch에서는 tensor를 이용해 모델의 입출력과 매개변수들을 부호화(encode)함.\n",
    "- numpy와 유사한 자료구조\n",
    "- 다만 numpy가 제공하지 않은 연산그래프, 딥러닝, 변화도 같은 프레임워크 기능을 가짐\n",
    "- gpu를 활용하여 연산 가속화 가능"
   ]
  },
  {
   "cell_type": "code",
   "execution_count": 31,
   "metadata": {},
   "outputs": [],
   "source": [
    "import torch # jupyter 환경 우측상단에서 바꿔줘야함 kotorch 가상환경으로\n",
    "import numpy as np"
   ]
  },
  {
   "cell_type": "markdown",
   "metadata": {},
   "source": []
  },
  {
   "cell_type": "markdown",
   "metadata": {},
   "source": [
    "### 1. 텐서 초기화"
   ]
  },
  {
   "cell_type": "code",
   "execution_count": 32,
   "metadata": {},
   "outputs": [
    {
     "data": {
      "text/plain": [
       "tensor([[1, 2],\n",
       "        [3, 4]])"
      ]
     },
     "execution_count": 32,
     "metadata": {},
     "output_type": "execute_result"
    }
   ],
   "source": [
    "# 데이터로부터 직접 텐서 생성\n",
    "data = [[1,2],[3,4]]\n",
    "x_data = torch.tensor(data)\n",
    "x_data"
   ]
  },
  {
   "cell_type": "code",
   "execution_count": 33,
   "metadata": {},
   "outputs": [],
   "source": [
    "# ndarray로부터 텐서 생성\n",
    "ndarray = np.array(data)\n",
    "x_np = torch.from_numpy(ndarray)"
   ]
  },
  {
   "cell_type": "code",
   "execution_count": 34,
   "metadata": {},
   "outputs": [
    {
     "name": "stdout",
     "output_type": "stream",
     "text": [
      "tensor([[1, 1],\n",
      "        [1, 1]])\n",
      "tensor([[0.7791, 0.4634],\n",
      "        [0.0869, 0.3884]])\n"
     ]
    }
   ],
   "source": [
    "# 텐서로부터 텐서 생성 (자료형, 크기 유지)\n",
    "## ones : 1로 생성\n",
    "x_ones = torch.ones_like(x_data)\n",
    "print(x_ones)\n",
    "## rand : random값으로 생성\n",
    "x_rand = torch.rand_like(x_data, dtype=torch.float)\n",
    "print(x_rand)"
   ]
  },
  {
   "cell_type": "code",
   "execution_count": 35,
   "metadata": {},
   "outputs": [
    {
     "name": "stdout",
     "output_type": "stream",
     "text": [
      "Random Tensor: \n",
      " tensor([[0.6760, 0.9887, 0.6985],\n",
      "        [0.9831, 0.2644, 0.5456]]) \n",
      "\n",
      "Ones Tensor: \n",
      " tensor([[1., 1., 1.],\n",
      "        [1., 1., 1.]]) \n",
      "\n",
      "Zeros Tensor: \n",
      " tensor([[0., 0., 0.],\n",
      "        [0., 0., 0.]])\n"
     ]
    }
   ],
   "source": [
    "# 무작위 or 상수 값 사용하기\n",
    "## shape : 텐서의 차원을 나타내는 튜플\n",
    "shape = (2,3,) # 끝에 ,는 튜플임을 나타내기 위해 관행적으로..\n",
    "rand_tensor = torch.rand(shape)\n",
    "ones_tensor = torch.ones(shape)\n",
    "zeros_tensor = torch.zeros(shape)\n",
    "\n",
    "print(f\"Random Tensor: \\n {rand_tensor} \\n\")\n",
    "print(f\"Ones Tensor: \\n {ones_tensor} \\n\")\n",
    "print(f\"Zeros Tensor: \\n {zeros_tensor}\")"
   ]
  },
  {
   "cell_type": "markdown",
   "metadata": {},
   "source": [
    "### 2. 텐서의 속성\n",
    "- 속성은 shape, datatype, 저장 장치 위치"
   ]
  },
  {
   "cell_type": "code",
   "execution_count": 36,
   "metadata": {},
   "outputs": [
    {
     "name": "stdout",
     "output_type": "stream",
     "text": [
      "Shape of tensor: torch.Size([3, 4])\n",
      "Datatype of tensor: torch.float32\n",
      "Device tensor is stored on: cpu\n"
     ]
    }
   ],
   "source": [
    "tensor = torch.rand(3,4) # 3,4 사이즈의 0~1 랜덤값 배열의 텐서\n",
    "print(f\"Shape of tensor: {tensor.shape}\")\n",
    "print(f\"Datatype of tensor: {tensor.dtype}\")\n",
    "print(f\"Device tensor is stored on: {tensor.device}\")"
   ]
  },
  {
   "cell_type": "markdown",
   "metadata": {},
   "source": [
    "### 3. 텐서 연산"
   ]
  },
  {
   "cell_type": "code",
   "execution_count": 37,
   "metadata": {},
   "outputs": [
    {
     "data": {
      "text/plain": [
       "tensor([[0.0893, 0.6299, 0.5055, 0.8546],\n",
       "        [0.8329, 0.8501, 0.3826, 0.2501],\n",
       "        [0.2242, 0.8027, 0.5568, 0.5139],\n",
       "        [0.7821, 0.2610, 0.1561, 0.9239]])"
      ]
     },
     "execution_count": 37,
     "metadata": {},
     "output_type": "execute_result"
    }
   ],
   "source": [
    "tensor = torch.rand(4,4)\n",
    "tensor"
   ]
  },
  {
   "cell_type": "code",
   "execution_count": 38,
   "metadata": {},
   "outputs": [
    {
     "name": "stdout",
     "output_type": "stream",
     "text": [
      "First row: tensor([0.0893, 0.6299, 0.5055, 0.8546])\n",
      "First column: tensor([0.0893, 0.8329, 0.2242, 0.7821])\n",
      "Last column: tensor([0.8546, 0.2501, 0.5139, 0.9239])\n",
      "tensor([[0.0893, 0.0000, 0.5055, 0.8546],\n",
      "        [0.8329, 0.0000, 0.3826, 0.2501],\n",
      "        [0.2242, 0.0000, 0.5568, 0.5139],\n",
      "        [0.7821, 0.0000, 0.1561, 0.9239]])\n"
     ]
    }
   ],
   "source": [
    "print(f\"First row: {tensor[0]}\")\n",
    "print(f\"First column: {tensor[:, 0]}\")\n",
    "print(f\"Last column: {tensor[:, -1]}\")\n",
    "tensor[:,1] = 0 # 이렇게 값 변경도 가능\n",
    "print(tensor)"
   ]
  },
  {
   "cell_type": "code",
   "execution_count": 39,
   "metadata": {},
   "outputs": [
    {
     "name": "stdout",
     "output_type": "stream",
     "text": [
      "torch.Size([4, 12]) \n",
      "\n"
     ]
    },
    {
     "data": {
      "text/plain": [
       "tensor([[0.0893, 0.0000, 0.5055, 0.8546, 0.0893, 0.0000, 0.5055, 0.8546, 0.0893,\n",
       "         0.0000, 0.5055, 0.8546],\n",
       "        [0.8329, 0.0000, 0.3826, 0.2501, 0.8329, 0.0000, 0.3826, 0.2501, 0.8329,\n",
       "         0.0000, 0.3826, 0.2501],\n",
       "        [0.2242, 0.0000, 0.5568, 0.5139, 0.2242, 0.0000, 0.5568, 0.5139, 0.2242,\n",
       "         0.0000, 0.5568, 0.5139],\n",
       "        [0.7821, 0.0000, 0.1561, 0.9239, 0.7821, 0.0000, 0.1561, 0.9239, 0.7821,\n",
       "         0.0000, 0.1561, 0.9239]])"
      ]
     },
     "execution_count": 39,
     "metadata": {},
     "output_type": "execute_result"
    }
   ],
   "source": [
    "t1= torch.cat([tensor, tensor, tensor], dim=1) # concat 함수임, dim은 방향\n",
    "print(t1.shape,'\\n')\n",
    "t1"
   ]
  },
  {
   "cell_type": "markdown",
   "metadata": {},
   "source": [
    "#### 산술 연산"
   ]
  },
  {
   "cell_type": "code",
   "execution_count": 43,
   "metadata": {},
   "outputs": [
    {
     "name": "stdout",
     "output_type": "stream",
     "text": [
      "tensor([[1, 2],\n",
      "        [3, 4]]) \n",
      " tensor([[2, 3],\n",
      "        [4, 5]])\n"
     ]
    }
   ],
   "source": [
    "data = [[1,2],[3,4]]\n",
    "data2 = [[2,3],[4,5]]\n",
    "t1 = torch.tensor(data)\n",
    "t2 = torch.tensor(data2)\n",
    "print(t1,'\\n',t2)"
   ]
  },
  {
   "cell_type": "code",
   "execution_count": 46,
   "metadata": {},
   "outputs": [
    {
     "name": "stdout",
     "output_type": "stream",
     "text": [
      "tensor([[10, 13],\n",
      "        [22, 29]])\n",
      "tensor([[10, 13],\n",
      "        [22, 29]])\n"
     ]
    }
   ],
   "source": [
    "# 같은표현임 : 행렬 곱\n",
    "print(torch.matmul(t1,t2))\n",
    "print(t1 @ t2)"
   ]
  },
  {
   "cell_type": "code",
   "execution_count": 45,
   "metadata": {},
   "outputs": [
    {
     "name": "stdout",
     "output_type": "stream",
     "text": [
      "tensor([[ 2,  6],\n",
      "        [12, 20]])\n",
      "tensor([[ 2,  6],\n",
      "        [12, 20]])\n"
     ]
    }
   ],
   "source": [
    "# 같은표현임 : 요소별 곱(내적)\n",
    "print(torch.mul(t1,t2))\n",
    "print(t1 * t2)"
   ]
  }
 ],
 "metadata": {
  "kernelspec": {
   "display_name": "Python 3.8.13 ('kotorch')",
   "language": "python",
   "name": "python3"
  },
  "language_info": {
   "codemirror_mode": {
    "name": "ipython",
    "version": 3
   },
   "file_extension": ".py",
   "mimetype": "text/x-python",
   "name": "python",
   "nbconvert_exporter": "python",
   "pygments_lexer": "ipython3",
   "version": "3.8.13"
  },
  "orig_nbformat": 4,
  "vscode": {
   "interpreter": {
    "hash": "e394b0e5950b2ed9ac02d3d0f43da50df004fa03f183c9ffe2862d4a06a95d21"
   }
  }
 },
 "nbformat": 4,
 "nbformat_minor": 2
}
