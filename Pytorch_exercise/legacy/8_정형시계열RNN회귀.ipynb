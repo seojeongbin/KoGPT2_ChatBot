{
 "cells": [
  {
   "cell_type": "markdown",
   "metadata": {},
   "source": [
    "### 0. Task\n",
    "- 데이터 : 시작가, 최고가, 최저가, 종가, 거래량\n",
    "- task : 5개의 피쳐 & 시계열(7일치) => 8일차 종가 예측"
   ]
  },
  {
   "cell_type": "markdown",
   "metadata": {},
   "source": [
    "### 1. 데이터 로드"
   ]
  },
  {
   "cell_type": "code",
   "execution_count": 262,
   "metadata": {},
   "outputs": [
    {
     "data": {
      "text/html": [
       "<div>\n",
       "<style scoped>\n",
       "    .dataframe tbody tr th:only-of-type {\n",
       "        vertical-align: middle;\n",
       "    }\n",
       "\n",
       "    .dataframe tbody tr th {\n",
       "        vertical-align: top;\n",
       "    }\n",
       "\n",
       "    .dataframe thead th {\n",
       "        text-align: right;\n",
       "    }\n",
       "</style>\n",
       "<table border=\"1\" class=\"dataframe\">\n",
       "  <thead>\n",
       "    <tr style=\"text-align: right;\">\n",
       "      <th></th>\n",
       "      <th>Date</th>\n",
       "      <th>Open</th>\n",
       "      <th>High</th>\n",
       "      <th>Low</th>\n",
       "      <th>Close</th>\n",
       "      <th>Adj Close</th>\n",
       "      <th>Volume</th>\n",
       "    </tr>\n",
       "  </thead>\n",
       "  <tbody>\n",
       "    <tr>\n",
       "      <th>0</th>\n",
       "      <td>2017-12-18</td>\n",
       "      <td>53.304001</td>\n",
       "      <td>53.924500</td>\n",
       "      <td>53.099998</td>\n",
       "      <td>53.856998</td>\n",
       "      <td>53.856998</td>\n",
       "      <td>31092000</td>\n",
       "    </tr>\n",
       "    <tr>\n",
       "      <th>1</th>\n",
       "      <td>2017-12-19</td>\n",
       "      <td>53.759998</td>\n",
       "      <td>53.841999</td>\n",
       "      <td>53.177502</td>\n",
       "      <td>53.534000</td>\n",
       "      <td>53.534000</td>\n",
       "      <td>26774000</td>\n",
       "    </tr>\n",
       "    <tr>\n",
       "      <th>2</th>\n",
       "      <td>2017-12-20</td>\n",
       "      <td>53.589001</td>\n",
       "      <td>53.668999</td>\n",
       "      <td>53.076000</td>\n",
       "      <td>53.247501</td>\n",
       "      <td>53.247501</td>\n",
       "      <td>25372000</td>\n",
       "    </tr>\n",
       "    <tr>\n",
       "      <th>3</th>\n",
       "      <td>2017-12-21</td>\n",
       "      <td>53.247501</td>\n",
       "      <td>53.466499</td>\n",
       "      <td>53.089699</td>\n",
       "      <td>53.181499</td>\n",
       "      <td>53.181499</td>\n",
       "      <td>19914000</td>\n",
       "    </tr>\n",
       "    <tr>\n",
       "      <th>4</th>\n",
       "      <td>2017-12-22</td>\n",
       "      <td>53.055500</td>\n",
       "      <td>53.209999</td>\n",
       "      <td>52.972000</td>\n",
       "      <td>53.006001</td>\n",
       "      <td>53.006001</td>\n",
       "      <td>15102000</td>\n",
       "    </tr>\n",
       "    <tr>\n",
       "      <th>...</th>\n",
       "      <td>...</td>\n",
       "      <td>...</td>\n",
       "      <td>...</td>\n",
       "      <td>...</td>\n",
       "      <td>...</td>\n",
       "      <td>...</td>\n",
       "      <td>...</td>\n",
       "    </tr>\n",
       "    <tr>\n",
       "      <th>1254</th>\n",
       "      <td>2022-12-12</td>\n",
       "      <td>93.089996</td>\n",
       "      <td>93.875000</td>\n",
       "      <td>91.900002</td>\n",
       "      <td>93.559998</td>\n",
       "      <td>93.559998</td>\n",
       "      <td>27380900</td>\n",
       "    </tr>\n",
       "    <tr>\n",
       "      <th>1255</th>\n",
       "      <td>2022-12-13</td>\n",
       "      <td>98.070000</td>\n",
       "      <td>99.800003</td>\n",
       "      <td>95.379997</td>\n",
       "      <td>95.849998</td>\n",
       "      <td>95.849998</td>\n",
       "      <td>34788500</td>\n",
       "    </tr>\n",
       "    <tr>\n",
       "      <th>1256</th>\n",
       "      <td>2022-12-14</td>\n",
       "      <td>95.540001</td>\n",
       "      <td>97.220001</td>\n",
       "      <td>93.940002</td>\n",
       "      <td>95.309998</td>\n",
       "      <td>95.309998</td>\n",
       "      <td>26452900</td>\n",
       "    </tr>\n",
       "    <tr>\n",
       "      <th>1257</th>\n",
       "      <td>2022-12-15</td>\n",
       "      <td>93.540001</td>\n",
       "      <td>94.029999</td>\n",
       "      <td>90.430000</td>\n",
       "      <td>91.199997</td>\n",
       "      <td>91.199997</td>\n",
       "      <td>28298800</td>\n",
       "    </tr>\n",
       "    <tr>\n",
       "      <th>1258</th>\n",
       "      <td>2022-12-16</td>\n",
       "      <td>91.199997</td>\n",
       "      <td>91.750000</td>\n",
       "      <td>90.010002</td>\n",
       "      <td>90.860001</td>\n",
       "      <td>90.860001</td>\n",
       "      <td>48472500</td>\n",
       "    </tr>\n",
       "  </tbody>\n",
       "</table>\n",
       "<p>1259 rows × 7 columns</p>\n",
       "</div>"
      ],
      "text/plain": [
       "            Date       Open       High        Low      Close  Adj Close  \\\n",
       "0     2017-12-18  53.304001  53.924500  53.099998  53.856998  53.856998   \n",
       "1     2017-12-19  53.759998  53.841999  53.177502  53.534000  53.534000   \n",
       "2     2017-12-20  53.589001  53.668999  53.076000  53.247501  53.247501   \n",
       "3     2017-12-21  53.247501  53.466499  53.089699  53.181499  53.181499   \n",
       "4     2017-12-22  53.055500  53.209999  52.972000  53.006001  53.006001   \n",
       "...          ...        ...        ...        ...        ...        ...   \n",
       "1254  2022-12-12  93.089996  93.875000  91.900002  93.559998  93.559998   \n",
       "1255  2022-12-13  98.070000  99.800003  95.379997  95.849998  95.849998   \n",
       "1256  2022-12-14  95.540001  97.220001  93.940002  95.309998  95.309998   \n",
       "1257  2022-12-15  93.540001  94.029999  90.430000  91.199997  91.199997   \n",
       "1258  2022-12-16  91.199997  91.750000  90.010002  90.860001  90.860001   \n",
       "\n",
       "        Volume  \n",
       "0     31092000  \n",
       "1     26774000  \n",
       "2     25372000  \n",
       "3     19914000  \n",
       "4     15102000  \n",
       "...        ...  \n",
       "1254  27380900  \n",
       "1255  34788500  \n",
       "1256  26452900  \n",
       "1257  28298800  \n",
       "1258  48472500  \n",
       "\n",
       "[1259 rows x 7 columns]"
      ]
     },
     "execution_count": 262,
     "metadata": {},
     "output_type": "execute_result"
    }
   ],
   "source": [
    "import pandas as pd\n",
    "\n",
    "path = r'C:\\Users\\SeoJeongBin\\Desktop\\Code\\Pytorch\\Pytorch_exercise\\data\\stock.csv'\n",
    "df = pd.read_csv(path)\n",
    "df\n"
   ]
  },
  {
   "cell_type": "code",
   "execution_count": 263,
   "metadata": {},
   "outputs": [
    {
     "data": {
      "text/html": [
       "<div>\n",
       "<style scoped>\n",
       "    .dataframe tbody tr th:only-of-type {\n",
       "        vertical-align: middle;\n",
       "    }\n",
       "\n",
       "    .dataframe tbody tr th {\n",
       "        vertical-align: top;\n",
       "    }\n",
       "\n",
       "    .dataframe thead th {\n",
       "        text-align: right;\n",
       "    }\n",
       "</style>\n",
       "<table border=\"1\" class=\"dataframe\">\n",
       "  <thead>\n",
       "    <tr style=\"text-align: right;\">\n",
       "      <th></th>\n",
       "      <th>Open</th>\n",
       "      <th>High</th>\n",
       "      <th>Low</th>\n",
       "      <th>Close</th>\n",
       "      <th>Volume</th>\n",
       "    </tr>\n",
       "  </thead>\n",
       "  <tbody>\n",
       "    <tr>\n",
       "      <th>0</th>\n",
       "      <td>53.304001</td>\n",
       "      <td>53.924500</td>\n",
       "      <td>53.099998</td>\n",
       "      <td>53.856998</td>\n",
       "      <td>31092000</td>\n",
       "    </tr>\n",
       "    <tr>\n",
       "      <th>1</th>\n",
       "      <td>53.759998</td>\n",
       "      <td>53.841999</td>\n",
       "      <td>53.177502</td>\n",
       "      <td>53.534000</td>\n",
       "      <td>26774000</td>\n",
       "    </tr>\n",
       "    <tr>\n",
       "      <th>2</th>\n",
       "      <td>53.589001</td>\n",
       "      <td>53.668999</td>\n",
       "      <td>53.076000</td>\n",
       "      <td>53.247501</td>\n",
       "      <td>25372000</td>\n",
       "    </tr>\n",
       "    <tr>\n",
       "      <th>3</th>\n",
       "      <td>53.247501</td>\n",
       "      <td>53.466499</td>\n",
       "      <td>53.089699</td>\n",
       "      <td>53.181499</td>\n",
       "      <td>19914000</td>\n",
       "    </tr>\n",
       "    <tr>\n",
       "      <th>4</th>\n",
       "      <td>53.055500</td>\n",
       "      <td>53.209999</td>\n",
       "      <td>52.972000</td>\n",
       "      <td>53.006001</td>\n",
       "      <td>15102000</td>\n",
       "    </tr>\n",
       "    <tr>\n",
       "      <th>...</th>\n",
       "      <td>...</td>\n",
       "      <td>...</td>\n",
       "      <td>...</td>\n",
       "      <td>...</td>\n",
       "      <td>...</td>\n",
       "    </tr>\n",
       "    <tr>\n",
       "      <th>1254</th>\n",
       "      <td>93.089996</td>\n",
       "      <td>93.875000</td>\n",
       "      <td>91.900002</td>\n",
       "      <td>93.559998</td>\n",
       "      <td>27380900</td>\n",
       "    </tr>\n",
       "    <tr>\n",
       "      <th>1255</th>\n",
       "      <td>98.070000</td>\n",
       "      <td>99.800003</td>\n",
       "      <td>95.379997</td>\n",
       "      <td>95.849998</td>\n",
       "      <td>34788500</td>\n",
       "    </tr>\n",
       "    <tr>\n",
       "      <th>1256</th>\n",
       "      <td>95.540001</td>\n",
       "      <td>97.220001</td>\n",
       "      <td>93.940002</td>\n",
       "      <td>95.309998</td>\n",
       "      <td>26452900</td>\n",
       "    </tr>\n",
       "    <tr>\n",
       "      <th>1257</th>\n",
       "      <td>93.540001</td>\n",
       "      <td>94.029999</td>\n",
       "      <td>90.430000</td>\n",
       "      <td>91.199997</td>\n",
       "      <td>28298800</td>\n",
       "    </tr>\n",
       "    <tr>\n",
       "      <th>1258</th>\n",
       "      <td>91.199997</td>\n",
       "      <td>91.750000</td>\n",
       "      <td>90.010002</td>\n",
       "      <td>90.860001</td>\n",
       "      <td>48472500</td>\n",
       "    </tr>\n",
       "  </tbody>\n",
       "</table>\n",
       "<p>1259 rows × 5 columns</p>\n",
       "</div>"
      ],
      "text/plain": [
       "           Open       High        Low      Close    Volume\n",
       "0     53.304001  53.924500  53.099998  53.856998  31092000\n",
       "1     53.759998  53.841999  53.177502  53.534000  26774000\n",
       "2     53.589001  53.668999  53.076000  53.247501  25372000\n",
       "3     53.247501  53.466499  53.089699  53.181499  19914000\n",
       "4     53.055500  53.209999  52.972000  53.006001  15102000\n",
       "...         ...        ...        ...        ...       ...\n",
       "1254  93.089996  93.875000  91.900002  93.559998  27380900\n",
       "1255  98.070000  99.800003  95.379997  95.849998  34788500\n",
       "1256  95.540001  97.220001  93.940002  95.309998  26452900\n",
       "1257  93.540001  94.029999  90.430000  91.199997  28298800\n",
       "1258  91.199997  91.750000  90.010002  90.860001  48472500\n",
       "\n",
       "[1259 rows x 5 columns]"
      ]
     },
     "execution_count": 263,
     "metadata": {},
     "output_type": "execute_result"
    }
   ],
   "source": [
    "df = df.drop(columns = ['Date','Adj Close'])\n",
    "df"
   ]
  },
  {
   "cell_type": "code",
   "execution_count": 264,
   "metadata": {},
   "outputs": [
    {
     "data": {
      "text/plain": [
       "Open      0\n",
       "High      0\n",
       "Low       0\n",
       "Close     0\n",
       "Volume    0\n",
       "dtype: int64"
      ]
     },
     "execution_count": 264,
     "metadata": {},
     "output_type": "execute_result"
    }
   ],
   "source": [
    "df.isnull().sum()"
   ]
  },
  {
   "cell_type": "markdown",
   "metadata": {},
   "source": [
    "### 2. 학습 데이터 분할\n",
    "- 시계열은 random split 하면안됨!"
   ]
  },
  {
   "cell_type": "code",
   "execution_count": 265,
   "metadata": {},
   "outputs": [],
   "source": [
    "train_size = int(len(df)*0.7)\n",
    "train = df.iloc[:train_size,:]\n",
    "test = df.iloc[train_size:,:]"
   ]
  },
  {
   "cell_type": "code",
   "execution_count": 266,
   "metadata": {},
   "outputs": [
    {
     "data": {
      "text/html": [
       "<div>\n",
       "<style scoped>\n",
       "    .dataframe tbody tr th:only-of-type {\n",
       "        vertical-align: middle;\n",
       "    }\n",
       "\n",
       "    .dataframe tbody tr th {\n",
       "        vertical-align: top;\n",
       "    }\n",
       "\n",
       "    .dataframe thead th {\n",
       "        text-align: right;\n",
       "    }\n",
       "</style>\n",
       "<table border=\"1\" class=\"dataframe\">\n",
       "  <thead>\n",
       "    <tr style=\"text-align: right;\">\n",
       "      <th></th>\n",
       "      <th>Open</th>\n",
       "      <th>High</th>\n",
       "      <th>Low</th>\n",
       "      <th>Close</th>\n",
       "      <th>Volume</th>\n",
       "    </tr>\n",
       "  </thead>\n",
       "  <tbody>\n",
       "    <tr>\n",
       "      <th>0</th>\n",
       "      <td>53.304001</td>\n",
       "      <td>53.924500</td>\n",
       "      <td>53.099998</td>\n",
       "      <td>53.856998</td>\n",
       "      <td>31092000</td>\n",
       "    </tr>\n",
       "    <tr>\n",
       "      <th>1</th>\n",
       "      <td>53.759998</td>\n",
       "      <td>53.841999</td>\n",
       "      <td>53.177502</td>\n",
       "      <td>53.534000</td>\n",
       "      <td>26774000</td>\n",
       "    </tr>\n",
       "    <tr>\n",
       "      <th>2</th>\n",
       "      <td>53.589001</td>\n",
       "      <td>53.668999</td>\n",
       "      <td>53.076000</td>\n",
       "      <td>53.247501</td>\n",
       "      <td>25372000</td>\n",
       "    </tr>\n",
       "    <tr>\n",
       "      <th>3</th>\n",
       "      <td>53.247501</td>\n",
       "      <td>53.466499</td>\n",
       "      <td>53.089699</td>\n",
       "      <td>53.181499</td>\n",
       "      <td>19914000</td>\n",
       "    </tr>\n",
       "    <tr>\n",
       "      <th>4</th>\n",
       "      <td>53.055500</td>\n",
       "      <td>53.209999</td>\n",
       "      <td>52.972000</td>\n",
       "      <td>53.006001</td>\n",
       "      <td>15102000</td>\n",
       "    </tr>\n",
       "    <tr>\n",
       "      <th>...</th>\n",
       "      <td>...</td>\n",
       "      <td>...</td>\n",
       "      <td>...</td>\n",
       "      <td>...</td>\n",
       "      <td>...</td>\n",
       "    </tr>\n",
       "    <tr>\n",
       "      <th>876</th>\n",
       "      <td>125.669502</td>\n",
       "      <td>126.411499</td>\n",
       "      <td>125.046997</td>\n",
       "      <td>126.351997</td>\n",
       "      <td>22550000</td>\n",
       "    </tr>\n",
       "    <tr>\n",
       "      <th>877</th>\n",
       "      <td>126.522003</td>\n",
       "      <td>126.862000</td>\n",
       "      <td>125.648499</td>\n",
       "      <td>126.032997</td>\n",
       "      <td>22182000</td>\n",
       "    </tr>\n",
       "    <tr>\n",
       "      <th>878</th>\n",
       "      <td>126.247498</td>\n",
       "      <td>126.523499</td>\n",
       "      <td>124.149948</td>\n",
       "      <td>125.696503</td>\n",
       "      <td>26316000</td>\n",
       "    </tr>\n",
       "    <tr>\n",
       "      <th>879</th>\n",
       "      <td>125.523003</td>\n",
       "      <td>127.196503</td>\n",
       "      <td>125.514999</td>\n",
       "      <td>126.371002</td>\n",
       "      <td>25756000</td>\n",
       "    </tr>\n",
       "    <tr>\n",
       "      <th>880</th>\n",
       "      <td>125.705498</td>\n",
       "      <td>126.389000</td>\n",
       "      <td>124.602997</td>\n",
       "      <td>125.567497</td>\n",
       "      <td>53306000</td>\n",
       "    </tr>\n",
       "  </tbody>\n",
       "</table>\n",
       "<p>881 rows × 5 columns</p>\n",
       "</div>"
      ],
      "text/plain": [
       "           Open        High         Low       Close    Volume\n",
       "0     53.304001   53.924500   53.099998   53.856998  31092000\n",
       "1     53.759998   53.841999   53.177502   53.534000  26774000\n",
       "2     53.589001   53.668999   53.076000   53.247501  25372000\n",
       "3     53.247501   53.466499   53.089699   53.181499  19914000\n",
       "4     53.055500   53.209999   52.972000   53.006001  15102000\n",
       "..          ...         ...         ...         ...       ...\n",
       "876  125.669502  126.411499  125.046997  126.351997  22550000\n",
       "877  126.522003  126.862000  125.648499  126.032997  22182000\n",
       "878  126.247498  126.523499  124.149948  125.696503  26316000\n",
       "879  125.523003  127.196503  125.514999  126.371002  25756000\n",
       "880  125.705498  126.389000  124.602997  125.567497  53306000\n",
       "\n",
       "[881 rows x 5 columns]"
      ]
     },
     "execution_count": 266,
     "metadata": {},
     "output_type": "execute_result"
    }
   ],
   "source": [
    "train"
   ]
  },
  {
   "cell_type": "code",
   "execution_count": 267,
   "metadata": {},
   "outputs": [
    {
     "data": {
      "text/html": [
       "<div>\n",
       "<style scoped>\n",
       "    .dataframe tbody tr th:only-of-type {\n",
       "        vertical-align: middle;\n",
       "    }\n",
       "\n",
       "    .dataframe tbody tr th {\n",
       "        vertical-align: top;\n",
       "    }\n",
       "\n",
       "    .dataframe thead th {\n",
       "        text-align: right;\n",
       "    }\n",
       "</style>\n",
       "<table border=\"1\" class=\"dataframe\">\n",
       "  <thead>\n",
       "    <tr style=\"text-align: right;\">\n",
       "      <th></th>\n",
       "      <th>Open</th>\n",
       "      <th>High</th>\n",
       "      <th>Low</th>\n",
       "      <th>Close</th>\n",
       "      <th>Volume</th>\n",
       "    </tr>\n",
       "  </thead>\n",
       "  <tbody>\n",
       "    <tr>\n",
       "      <th>881</th>\n",
       "      <td>125.739998</td>\n",
       "      <td>127.036751</td>\n",
       "      <td>125.134247</td>\n",
       "      <td>126.455002</td>\n",
       "      <td>26256000</td>\n",
       "    </tr>\n",
       "    <tr>\n",
       "      <th>882</th>\n",
       "      <td>126.449997</td>\n",
       "      <td>127.269997</td>\n",
       "      <td>126.026497</td>\n",
       "      <td>126.999496</td>\n",
       "      <td>20984000</td>\n",
       "    </tr>\n",
       "    <tr>\n",
       "      <th>883</th>\n",
       "      <td>126.550003</td>\n",
       "      <td>127.795998</td>\n",
       "      <td>126.251999</td>\n",
       "      <td>126.461502</td>\n",
       "      <td>19694000</td>\n",
       "    </tr>\n",
       "    <tr>\n",
       "      <th>884</th>\n",
       "      <td>127.053497</td>\n",
       "      <td>127.535500</td>\n",
       "      <td>126.959999</td>\n",
       "      <td>127.281998</td>\n",
       "      <td>18934000</td>\n",
       "    </tr>\n",
       "    <tr>\n",
       "      <th>885</th>\n",
       "      <td>126.957001</td>\n",
       "      <td>127.504997</td>\n",
       "      <td>126.444000</td>\n",
       "      <td>126.995003</td>\n",
       "      <td>33484000</td>\n",
       "    </tr>\n",
       "    <tr>\n",
       "      <th>...</th>\n",
       "      <td>...</td>\n",
       "      <td>...</td>\n",
       "      <td>...</td>\n",
       "      <td>...</td>\n",
       "      <td>...</td>\n",
       "    </tr>\n",
       "    <tr>\n",
       "      <th>1254</th>\n",
       "      <td>93.089996</td>\n",
       "      <td>93.875000</td>\n",
       "      <td>91.900002</td>\n",
       "      <td>93.559998</td>\n",
       "      <td>27380900</td>\n",
       "    </tr>\n",
       "    <tr>\n",
       "      <th>1255</th>\n",
       "      <td>98.070000</td>\n",
       "      <td>99.800003</td>\n",
       "      <td>95.379997</td>\n",
       "      <td>95.849998</td>\n",
       "      <td>34788500</td>\n",
       "    </tr>\n",
       "    <tr>\n",
       "      <th>1256</th>\n",
       "      <td>95.540001</td>\n",
       "      <td>97.220001</td>\n",
       "      <td>93.940002</td>\n",
       "      <td>95.309998</td>\n",
       "      <td>26452900</td>\n",
       "    </tr>\n",
       "    <tr>\n",
       "      <th>1257</th>\n",
       "      <td>93.540001</td>\n",
       "      <td>94.029999</td>\n",
       "      <td>90.430000</td>\n",
       "      <td>91.199997</td>\n",
       "      <td>28298800</td>\n",
       "    </tr>\n",
       "    <tr>\n",
       "      <th>1258</th>\n",
       "      <td>91.199997</td>\n",
       "      <td>91.750000</td>\n",
       "      <td>90.010002</td>\n",
       "      <td>90.860001</td>\n",
       "      <td>48472500</td>\n",
       "    </tr>\n",
       "  </tbody>\n",
       "</table>\n",
       "<p>378 rows × 5 columns</p>\n",
       "</div>"
      ],
      "text/plain": [
       "            Open        High         Low       Close    Volume\n",
       "881   125.739998  127.036751  125.134247  126.455002  26256000\n",
       "882   126.449997  127.269997  126.026497  126.999496  20984000\n",
       "883   126.550003  127.795998  126.251999  126.461502  19694000\n",
       "884   127.053497  127.535500  126.959999  127.281998  18934000\n",
       "885   126.957001  127.504997  126.444000  126.995003  33484000\n",
       "...          ...         ...         ...         ...       ...\n",
       "1254   93.089996   93.875000   91.900002   93.559998  27380900\n",
       "1255   98.070000   99.800003   95.379997   95.849998  34788500\n",
       "1256   95.540001   97.220001   93.940002   95.309998  26452900\n",
       "1257   93.540001   94.029999   90.430000   91.199997  28298800\n",
       "1258   91.199997   91.750000   90.010002   90.860001  48472500\n",
       "\n",
       "[378 rows x 5 columns]"
      ]
     },
     "execution_count": 267,
     "metadata": {},
     "output_type": "execute_result"
    }
   ],
   "source": [
    "test"
   ]
  },
  {
   "cell_type": "code",
   "execution_count": 268,
   "metadata": {},
   "outputs": [
    {
     "name": "stdout",
     "output_type": "stream",
     "text": [
      "(881, 5)\n"
     ]
    },
    {
     "data": {
      "text/plain": [
       "array([[0.0592211 , 0.04865653, 0.05955819, 0.06505927, 0.20610218],\n",
       "       [0.06508021, 0.04758536, 0.06056287, 0.06089478, 0.16926043],\n",
       "       [0.06288307, 0.04533918, 0.0592471 , 0.05720088, 0.15729839],\n",
       "       ...,\n",
       "       [0.99647288, 0.9912619 , 0.98057437, 0.99130352, 0.16535272],\n",
       "       [0.98716384, 1.        , 0.99826945, 1.        , 0.16057472],\n",
       "       [0.98950872, 0.9895156 , 0.98644722, 0.98964021, 0.39563496]])"
      ]
     },
     "execution_count": 268,
     "metadata": {},
     "output_type": "execute_result"
    }
   ],
   "source": [
    "# 정규화\n",
    "\n",
    "from sklearn.preprocessing import MinMaxScaler\n",
    "\n",
    "scaler = MinMaxScaler()\n",
    "\n",
    "train = scaler.fit_transform(train)\n",
    "test = scaler.transform(test)\n",
    "\n",
    "print(train.shape)\n",
    "train"
   ]
  },
  {
   "cell_type": "markdown",
   "metadata": {},
   "source": [
    "### 3. Buid Dataset"
   ]
  },
  {
   "cell_type": "code",
   "execution_count": 269,
   "metadata": {},
   "outputs": [],
   "source": [
    "import numpy as np\n",
    "\n",
    "def create_window(data, sequence_length):\n",
    "    x_data = []\n",
    "    y_data = []\n",
    "    for i in range(0, len(data)-sequence_length):\n",
    "        x = data[i:i+sequence_length] # 7일치 전체 데이터\n",
    "        y = [data[i+sequence_length, -2]] #8일차의 target value 1개 (종가가 끝에서 두번째라 -2)\n",
    "        x_data.append(x)\n",
    "        y_data.append(y)\n",
    "    x_data = np.array(x_data)\n",
    "    y_data = np.array(y_data) # ndarray 변경\n",
    "    return x_data, y_data"
   ]
  },
  {
   "cell_type": "code",
   "execution_count": 270,
   "metadata": {},
   "outputs": [
    {
     "name": "stdout",
     "output_type": "stream",
     "text": [
      "(874, 7, 5)\n",
      "(874, 1)\n"
     ]
    }
   ],
   "source": [
    "seq_length = 7\n",
    "\n",
    "x_train, y_train = create_window(train, seq_length)\n",
    "x_test, y_test = create_window(test, seq_length)\n",
    "\n",
    "print(x_train.shape)\n",
    "print(y_train.shape)"
   ]
  },
  {
   "cell_type": "code",
   "execution_count": 271,
   "metadata": {},
   "outputs": [],
   "source": [
    "import torch\n",
    "from torch.utils.data import Dataset\n",
    "\n",
    "class MyDataset(Dataset):\n",
    "    def __init__(self, x, y) :\n",
    "        super().__init__()\n",
    "        self.x = torch.FloatTensor(x)\n",
    "        self.y = torch.FloatTensor(y)\n",
    "        \n",
    "    def __len__(self):\n",
    "        return len(self.x)\n",
    "    \n",
    "    def __getitem__(self, index) :\n",
    "        return self.x[index], self.y[index]\n",
    "    \n",
    "train_dataset = MyDataset(x_train, y_train)\n",
    "test_dataset = MyDataset(x_test, y_test)"
   ]
  },
  {
   "cell_type": "code",
   "execution_count": 272,
   "metadata": {},
   "outputs": [
    {
     "name": "stdout",
     "output_type": "stream",
     "text": [
      "train_dataset 개수 : 874개\n"
     ]
    },
    {
     "data": {
      "text/plain": [
       "(tensor([[0.0592, 0.0487, 0.0596, 0.0651, 0.2061],\n",
       "         [0.0651, 0.0476, 0.0606, 0.0609, 0.1693],\n",
       "         [0.0629, 0.0453, 0.0592, 0.0572, 0.1573],\n",
       "         [0.0585, 0.0427, 0.0594, 0.0563, 0.1107],\n",
       "         [0.0560, 0.0394, 0.0579, 0.0541, 0.0697],\n",
       "         [0.0541, 0.0367, 0.0519, 0.0519, 0.0706],\n",
       "         [0.0536, 0.0356, 0.0505, 0.0472, 0.1579]]),\n",
       " tensor([0.0464]))"
      ]
     },
     "execution_count": 272,
     "metadata": {},
     "output_type": "execute_result"
    }
   ],
   "source": [
    "print(f'train_dataset 개수 : {len(train_dataset)}개')\n",
    "\n",
    "train_dataset[0] # (0번째 x train의 torch, 0번째 y train의 torch)"
   ]
  },
  {
   "cell_type": "markdown",
   "metadata": {},
   "source": [
    "### 4. Model\n",
    "- task : 7일(seq_length) 만큼의 데이터를 입력받아서, 8일차의 종가 예측\n",
    "- regression이기 때문에 output dimension은 1임\n",
    "    - 하지만 이렇게하면 state vector size도 1인데, 이거는 모델 입장에서 굉장히 부담스럽다. hidden layer state 정보를 고작 압축해서 size 1로 주는거니까\n",
    "- 그래서 보통 hidden size를 정하고, (예를들어 여기서는 10) 마지막에 output에서 FC로 예측하는 방식"
   ]
  },
  {
   "cell_type": "code",
   "execution_count": 273,
   "metadata": {},
   "outputs": [],
   "source": [
    "# hyper parameters\n",
    "seq_length = 7\n",
    "data_dim = 5 # 입력 데이터 차원 개수 (칼럼 수)\n",
    "hidden_dim = 10 \n",
    "output_dim = 1\n",
    "learning_rate = 0.01\n",
    "# layers <- rnn 셀을 몇개를 줄 것인가"
   ]
  },
  {
   "cell_type": "markdown",
   "metadata": {},
   "source": [
    "![rnn.png](rnn.png)"
   ]
  },
  {
   "cell_type": "code",
   "execution_count": 274,
   "metadata": {},
   "outputs": [],
   "source": [
    "import torch.nn as nn\n",
    "\n",
    "class myModel(nn.Module):\n",
    "    def __init__(self, input_dim, hidden_dim, output_dim, layers):\n",
    "        super(myModel, self).__init__()\n",
    "        self.layer_rnn = nn.LSTM(input_dim, hidden_dim, num_layers=layers, batch_first=True)\n",
    "        self.layer_fc = nn.Linear(hidden_dim, output_dim, bias=True)\n",
    "        \n",
    "    def forward(self, x):\n",
    "        output, _status = self.layer_rnn(x)\n",
    "        output = output[:,-1] # 직전 state정보만을 취급하지!! 7개중에서 (위의 그림 참고)\n",
    "        output = self.layer_fc(output)\n",
    "        return output"
   ]
  },
  {
   "cell_type": "markdown",
   "metadata": {},
   "source": [
    "### batchsize"
   ]
  },
  {
   "cell_type": "code",
   "execution_count": 275,
   "metadata": {},
   "outputs": [
    {
     "name": "stdout",
     "output_type": "stream",
     "text": [
      "torch.Size([30, 7, 5])\n",
      "torch.Size([30, 1])\n"
     ]
    }
   ],
   "source": [
    "from torch.utils.data import DataLoader\n",
    "\n",
    "train_dataloader = DataLoader(train_dataset, batch_size=30, shuffle=True)\n",
    "test_dataloader = DataLoader(test_dataset, batch_size=30, shuffle=True) # test는 shuffle False인듯도?\n",
    "\n",
    "loader = iter(train_dataloader)\n",
    "x, y = next(loader) # 첫번째 batch가 나오는거임 이렇게하면\n",
    "print(x.shape)\n",
    "print(y.shape)"
   ]
  },
  {
   "cell_type": "markdown",
   "metadata": {},
   "source": [
    "#### optimizer"
   ]
  },
  {
   "cell_type": "code",
   "execution_count": 276,
   "metadata": {},
   "outputs": [],
   "source": [
    "model = myModel(data_dim, hidden_dim, output_dim, layers=3)\n",
    "\n",
    "import torch.optim as optim \n",
    "\n",
    "optimizer = optim.Adam(model.parameters(), lr=learning_rate)\n",
    "loss_fn = nn.MSELoss() # 회귀니까\n"
   ]
  },
  {
   "cell_type": "markdown",
   "metadata": {},
   "source": [
    "### 5. 학습"
   ]
  },
  {
   "cell_type": "code",
   "execution_count": 277,
   "metadata": {},
   "outputs": [
    {
     "name": "stderr",
     "output_type": "stream",
     "text": [
      "  0%|          | 1/1000 [00:00<08:51,  1.88it/s]"
     ]
    },
    {
     "name": "stdout",
     "output_type": "stream",
     "text": [
      "[Epoch : 1/1000] [train_loss : 0.06546063510080179] [val_loss : 0.11169520364357875]\n"
     ]
    },
    {
     "name": "stderr",
     "output_type": "stream",
     "text": [
      " 10%|█         | 101/1000 [00:40<05:55,  2.53it/s]"
     ]
    },
    {
     "name": "stdout",
     "output_type": "stream",
     "text": [
      "[Epoch : 101/1000] [train_loss : 0.0007189265777318118] [val_loss : 0.00881864889883078]\n"
     ]
    },
    {
     "name": "stderr",
     "output_type": "stream",
     "text": [
      " 20%|██        | 201/1000 [01:19<05:19,  2.50it/s]"
     ]
    },
    {
     "name": "stdout",
     "output_type": "stream",
     "text": [
      "[Epoch : 201/1000] [train_loss : 0.0007010965239411841] [val_loss : 0.009849069604220299]\n"
     ]
    },
    {
     "name": "stderr",
     "output_type": "stream",
     "text": [
      " 30%|███       | 301/1000 [02:01<04:34,  2.55it/s]"
     ]
    },
    {
     "name": "stdout",
     "output_type": "stream",
     "text": [
      "[Epoch : 301/1000] [train_loss : 0.00027329431468388067] [val_loss : 0.011147572050014367]\n"
     ]
    },
    {
     "name": "stderr",
     "output_type": "stream",
     "text": [
      " 40%|████      | 401/1000 [02:39<04:08,  2.41it/s]"
     ]
    },
    {
     "name": "stdout",
     "output_type": "stream",
     "text": [
      "[Epoch : 401/1000] [train_loss : 0.0002825177264943098] [val_loss : 0.010160341321562346]\n"
     ]
    },
    {
     "name": "stderr",
     "output_type": "stream",
     "text": [
      " 50%|█████     | 501/1000 [03:20<04:04,  2.04it/s]"
     ]
    },
    {
     "name": "stdout",
     "output_type": "stream",
     "text": [
      "[Epoch : 501/1000] [train_loss : 0.00021653834580016943] [val_loss : 0.012958433479070663]\n"
     ]
    },
    {
     "name": "stderr",
     "output_type": "stream",
     "text": [
      " 60%|██████    | 601/1000 [04:14<04:54,  1.35it/s]"
     ]
    },
    {
     "name": "stdout",
     "output_type": "stream",
     "text": [
      "[Epoch : 601/1000] [train_loss : 0.00019706589252261136] [val_loss : 0.013262368201349791]\n"
     ]
    },
    {
     "name": "stderr",
     "output_type": "stream",
     "text": [
      " 70%|███████   | 701/1000 [05:13<02:11,  2.27it/s]"
     ]
    },
    {
     "name": "stdout",
     "output_type": "stream",
     "text": [
      "[Epoch : 701/1000] [train_loss : 0.00024034621771230983] [val_loss : 0.01976976214120021]\n"
     ]
    },
    {
     "name": "stderr",
     "output_type": "stream",
     "text": [
      " 80%|████████  | 801/1000 [06:06<01:27,  2.26it/s]"
     ]
    },
    {
     "name": "stdout",
     "output_type": "stream",
     "text": [
      "[Epoch : 801/1000] [train_loss : 0.00012657573630955692] [val_loss : 0.015074640333365936]\n"
     ]
    },
    {
     "name": "stderr",
     "output_type": "stream",
     "text": [
      " 90%|█████████ | 901/1000 [06:56<02:45,  1.67s/it]"
     ]
    },
    {
     "name": "stdout",
     "output_type": "stream",
     "text": [
      "[Epoch : 901/1000] [train_loss : 0.00018279926710723277] [val_loss : 0.01614340774428386]\n"
     ]
    },
    {
     "name": "stderr",
     "output_type": "stream",
     "text": [
      "100%|██████████| 1000/1000 [07:37<00:00,  2.19it/s]\n"
     ]
    }
   ],
   "source": [
    "loss_graph = [] # 그래프 그릴 목적인 loss.\n",
    "epochs = 1000\n",
    "from tqdm import tqdm\n",
    "\n",
    "\n",
    "for epoch in tqdm(range(epochs)):\n",
    "    # train mode\n",
    "    model.train()\n",
    "    train_loss = 0\n",
    "    \n",
    "    for x, y in train_dataloader :\n",
    "        optimizer.zero_grad()\n",
    "        pred = model(x)\n",
    "        loss = loss_fn(pred, y)\n",
    "        train_loss += loss.item() \n",
    "        loss.backward()\n",
    "        optimizer.step()\n",
    "    \n",
    "    if epoch % 100 == 0 : \n",
    "        # eval mode\n",
    "        model.eval()\n",
    "        val_loss = 0\n",
    "        with torch.no_grad() : \n",
    "            for x,y in test_dataloader:\n",
    "                pred = model(x)\n",
    "                loss = loss_fn(pred, y)\n",
    "                val_loss += loss.item()\n",
    "                \n",
    "        print(f'[Epoch : {epoch+1}/{epochs}] [train_loss : {train_loss/len(train_dataloader)}] [val_loss : {val_loss/len(test_dataloader)}]')\n",
    "        loss_graph.append(train_loss/len(train_dataloader))\n",
    "        # loss 길이로 꼭 나눠서 평균으로 봐야함!"
   ]
  },
  {
   "cell_type": "markdown",
   "metadata": {},
   "source": [
    "### 6. 결과 시각화"
   ]
  },
  {
   "cell_type": "code",
   "execution_count": 278,
   "metadata": {},
   "outputs": [
    {
     "data": {
      "image/png": "[encoded data removed]",
      "text/plain": [
       "<Figure size 2000x1000 with 1 Axes>"
      ]
     },
     "metadata": {},
     "output_type": "display_data"
    }
   ],
   "source": [
    "import matplotlib.pyplot as plt\n",
    "\n",
    "plt.figure(figsize=(20,10))\n",
    "plt.plot(loss_graph)\n",
    "plt.show()"
   ]
  }
 ],
 "metadata": {
  "kernelspec": {
   "display_name": "Python 3.8.13 ('kotorch')",
   "language": "python",
   "name": "python3"
  },
  "language_info": {
   "codemirror_mode": {
    "name": "ipython",
    "version": 3
   },
   "file_extension": ".py",
   "mimetype": "text/x-python",
   "name": "python",
   "nbconvert_exporter": "python",
   "pygments_lexer": "ipython3",
   "version": "3.8.13"
  },
  "orig_nbformat": 4,
  "vscode": {
   "interpreter": {
    "hash": "e394b0e5950b2ed9ac02d3d0f43da50df004fa03f183c9ffe2862d4a06a95d21"
   }
  }
 },
 "nbformat": 4,
 "nbformat_minor": 2
}
